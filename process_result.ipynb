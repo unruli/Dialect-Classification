{
 "cells": [
  {
   "cell_type": "markdown",
   "id": "b00c29bd",
   "metadata": {},
   "source": [
    "## Load Libraries"
   ]
  },
  {
   "cell_type": "code",
   "execution_count": 16,
   "id": "eda6142f",
   "metadata": {},
   "outputs": [],
   "source": [
    "import numpy as np\n",
    "import pandas as pd\n",
    "import soundfile as sf\n",
    "from tqdm import tqdm\n",
    "from IPython.display import Audio\n",
    "from pyannote.core import Annotation, Segment\n",
    "from pyannote.metrics.diarization import DiarizationErrorRate\n",
    "import re\n"
   ]
  },
  {
   "cell_type": "markdown",
   "id": "55b95f42",
   "metadata": {},
   "source": [
    "## Read model files"
   ]
  },
  {
   "cell_type": "code",
   "execution_count": 13,
   "id": "b416890e",
   "metadata": {},
   "outputs": [],
   "source": [
    "# Read csv files\n",
    "assemblyai = pd.read_csv('Diarization results/assemblyai_diarization_der_0.1272_30.csv')\n",
    "deepgram = pd.read_csv('Diarization results/deepgram_diarization_der_0.1421_30.csv')\n",
    "nemo = pd.read_csv('Diarization results/nemo_diarization.csv')\n",
    "pyannote = pd.read_csv('Diarization results/pyannote_diarization_der_0.2130_30.csv')\n",
    "soniox = pd.read_csv('Diarization results/soniox_diarization_der_0.2005_30.csv')\n",
    "reverb = pd.read_csv('Diarization results/reverb_diarization_der_0.2687_30.csv')\n",
    "\n",
    "# Select only rows [0:31] of reverb\n",
    "reverb = reverb.iloc[0:31]\n",
    "# Filter out rows where 'audio_id' is nan in reverb\n",
    "reverb = reverb[reverb['audio_id'].notna()]\n"
   ]
  },
  {
   "cell_type": "markdown",
   "id": "5e2fa846",
   "metadata": {},
   "source": [
    "## Check if audio_id is same for all files"
   ]
  },
  {
   "cell_type": "code",
   "execution_count": 14,
   "id": "c7da10c0",
   "metadata": {},
   "outputs": [
    {
     "name": "stdout",
     "output_type": "stream",
     "text": [
      "All audio IDs match across the dataframes.\n"
     ]
    }
   ],
   "source": [
    "# Verify that 'audio_id' columns are the same across all dataframes, if successful print a message\n",
    "def verify_audio_ids(*dfs):\n",
    "    audio_ids = [set(df['audio_id']) for df in dfs]\n",
    "    if not all(audio_ids[0] == audio_id for audio_id in audio_ids):\n",
    "        raise ValueError(\"Audio IDs do not match across all dataframes.\")\n",
    "        # Print all mismatched audio IDs\n",
    "    else:\n",
    "        print(\"All audio IDs match across the dataframes.\")\n",
    "verify_audio_ids(assemblyai, deepgram, nemo, pyannote, soniox, reverb)"
   ]
  },
  {
   "cell_type": "markdown",
   "id": "9b5f7bdb",
   "metadata": {},
   "source": [
    "## DER Matrics"
   ]
  },
  {
   "cell_type": "code",
   "execution_count": 17,
   "id": "9eb09cbe",
   "metadata": {},
   "outputs": [],
   "source": [
    "def create_pyannote_annotation(segments_list):\n",
    "    annotation = Annotation()\n",
    "    for start, end, speaker_tag in segments_list:\n",
    "        segment = Segment(start, end)\n",
    "        annotation[segment] = speaker_tag\n",
    "    return annotation\n",
    "\n",
    "der_metric = DiarizationErrorRate()"
   ]
  },
  {
   "cell_type": "markdown",
   "id": "5e9f683c",
   "metadata": {},
   "source": [
    "## Calculate absolute DER for all files"
   ]
  },
  {
   "cell_type": "code",
   "execution_count": null,
   "id": "7b513973",
   "metadata": {},
   "outputs": [
    {
     "name": "stdout",
     "output_type": "stream",
     "text": [
      "\n",
      "Processing assemblyai...\n"
     ]
    },
    {
     "name": "stderr",
     "output_type": "stream",
     "text": [
      "Processing:   0%|          | 0/30 [00:00<?, ?it/s]/home/kelechi/miniconda3/envs/nemo310/lib/python3.10/site-packages/pyannote/metrics/utils.py:200: UserWarning: 'uem' was approximated by the union of 'reference' and 'hypothesis' extents.\n",
      "  warnings.warn(\n",
      "Processing: 100%|██████████| 30/30 [00:00<00:00, 130.00it/s]\n"
     ]
    },
    {
     "name": "stdout",
     "output_type": "stream",
     "text": [
      "Absolute DER for dataset: 12.72%\n",
      "\n",
      "Processing deepgram...\n"
     ]
    },
    {
     "name": "stderr",
     "output_type": "stream",
     "text": [
      "Processing: 100%|██████████| 30/30 [00:00<00:00, 132.03it/s]\n"
     ]
    },
    {
     "name": "stdout",
     "output_type": "stream",
     "text": [
      "Absolute DER for dataset: 14.21%\n",
      "\n",
      "Processing nemo...\n"
     ]
    },
    {
     "name": "stderr",
     "output_type": "stream",
     "text": [
      "Processing: 100%|██████████| 30/30 [00:00<00:00, 38.18it/s]\n"
     ]
    },
    {
     "name": "stdout",
     "output_type": "stream",
     "text": [
      "Absolute DER for dataset: 26.82%\n",
      "\n",
      "Processing pyannote...\n"
     ]
    },
    {
     "name": "stderr",
     "output_type": "stream",
     "text": [
      "Processing: 100%|██████████| 30/30 [00:00<00:00, 146.01it/s]\n"
     ]
    },
    {
     "name": "stdout",
     "output_type": "stream",
     "text": [
      "Absolute DER for dataset: 21.30%\n",
      "\n",
      "Processing soniox...\n"
     ]
    },
    {
     "name": "stderr",
     "output_type": "stream",
     "text": [
      "Processing: 100%|██████████| 30/30 [00:00<00:00, 179.59it/s]\n"
     ]
    },
    {
     "name": "stdout",
     "output_type": "stream",
     "text": [
      "Absolute DER for dataset: 20.05%\n",
      "\n",
      "Processing reverb...\n"
     ]
    },
    {
     "name": "stderr",
     "output_type": "stream",
     "text": [
      "Processing: 100%|██████████| 30/30 [00:00<00:00, 147.12it/s]"
     ]
    },
    {
     "name": "stdout",
     "output_type": "stream",
     "text": [
      "Absolute DER for dataset: 20.23%\n"
     ]
    },
    {
     "name": "stderr",
     "output_type": "stream",
     "text": [
      "\n"
     ]
    }
   ],
   "source": [
    "def compute_der_for_dataset(df, ref_col='ref_segments', pred_col='pred_segments'):\n",
    "    results = []\n",
    "    der_metric = DiarizationErrorRate()\n",
    "    for i, row in tqdm(df.iterrows(), total=len(df), desc=\"Processing\"):\n",
    "        # Skip rows where either ref_col or pred_col is not a string or list (e.g., NaN or float)\n",
    "        if not (isinstance(row[ref_col], (str, list)) and isinstance(row[pred_col], (str, list))):\n",
    "            continue\n",
    "        ref_annotation = create_pyannote_annotation(eval(row[ref_col]) if isinstance(row[ref_col], str) else row[ref_col])\n",
    "        pred_annotation = create_pyannote_annotation(eval(row[pred_col]) if isinstance(row[pred_col], str) else row[pred_col])\n",
    "        der = der_metric(ref_annotation, pred_annotation)\n",
    "        results.append({'audio_id': row['audio_id'], 'DER': der})\n",
    "    abs_der = abs(der_metric)\n",
    "    print(f\"Absolute DER for dataset: {100 * abs_der:.2f}%\")\n",
    "    return pd.DataFrame(results), abs_der\n",
    "\n",
    "# Compute DER for all datasets and store results\n",
    "datasets = {\n",
    "    'assemblyai': assemblyai,\n",
    "    'deepgram': deepgram,\n",
    "    'nemo': nemo,\n",
    "    'pyannote': pyannote,\n",
    "    'soniox': soniox,\n",
    "    'reverb': reverb\n",
    "}\n",
    "\n",
    "der_results = {}\n",
    "abs_ders = {}\n",
    "\n",
    "for name, df in datasets.items():\n",
    "    print(f\"\\nProcessing {name}...\")\n",
    "    der_df, abs_der = compute_der_for_dataset(df)\n",
    "    der_results[name] = der_df\n",
    "    abs_ders[name] = abs_der"
   ]
  }
 ],
 "metadata": {
  "kernelspec": {
   "display_name": "nemo310",
   "language": "python",
   "name": "python3"
  },
  "language_info": {
   "codemirror_mode": {
    "name": "ipython",
    "version": 3
   },
   "file_extension": ".py",
   "mimetype": "text/x-python",
   "name": "python",
   "nbconvert_exporter": "python",
   "pygments_lexer": "ipython3",
   "version": "3.10.16"
  }
 },
 "nbformat": 4,
 "nbformat_minor": 5
}
