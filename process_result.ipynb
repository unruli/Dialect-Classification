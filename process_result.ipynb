{
 "cells": [
  {
   "cell_type": "code",
   "execution_count": 1,
   "id": "eda6142f",
   "metadata": {},
   "outputs": [],
   "source": [
    "import numpy as np\n",
    "import pandas as pd"
   ]
  },
  {
   "cell_type": "code",
   "execution_count": null,
   "id": "b416890e",
   "metadata": {},
   "outputs": [],
   "source": [
    "# Read csv files\n",
    "assemblyai = pd.read_csv('Diarization results/assemblyai_diarization_der_0.1272_30.csv')\n",
    "deepgram = pd.read_csv('Diarization results/deepgram_diarization_der_0.1421_30.csv')\n",
    "nemo = pd.read_csv('Diarization results/nemo_diarization.csv')\n",
    "pyannote = pd.read_csv('Diarization results/pyannote_diarization_der_0.2130_30.csv')\n",
    "reverb = pd.read_csv('Diarization results/reverb_diarization_der_0.2687_30.csv')\n",
    "soniox = pd.read_csv('Diarization results/soniox_diarization_der_0.2005_30.csv')\n"
   ]
  }
 ],
 "metadata": {
  "kernelspec": {
   "display_name": "nemo310",
   "language": "python",
   "name": "python3"
  },
  "language_info": {
   "codemirror_mode": {
    "name": "ipython",
    "version": 3
   },
   "file_extension": ".py",
   "mimetype": "text/x-python",
   "name": "python",
   "nbconvert_exporter": "python",
   "pygments_lexer": "ipython3",
   "version": "3.10.16"
  }
 },
 "nbformat": 4,
 "nbformat_minor": 5
}
