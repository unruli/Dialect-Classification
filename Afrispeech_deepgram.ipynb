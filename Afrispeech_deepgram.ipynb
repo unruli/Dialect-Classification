{
  "nbformat": 4,
  "nbformat_minor": 0,
  "metadata": {
    "colab": {
      "provenance": []
    },
    "kernelspec": {
      "name": "python3",
      "display_name": "Python 3"
    },
    "language_info": {
      "name": "python"
    }
  },
  "cells": [
    {
      "cell_type": "code",
      "execution_count": null,
      "metadata": {
        "colab": {
          "base_uri": "https://localhost:8080/"
        },
        "id": "4gpBIejgxbC_",
        "outputId": "5c432be7-2eaa-49de-fab1-c6f5457a4a69"
      },
      "outputs": [
        {
          "output_type": "stream",
          "name": "stdout",
          "text": [
            "Collecting deepgram-sdk\n",
            "  Downloading deepgram_sdk-3.7.3-py3-none-any.whl.metadata (13 kB)\n",
            "Collecting httpx>=0.25.2 (from deepgram-sdk)\n",
            "  Downloading httpx-0.27.2-py3-none-any.whl.metadata (7.1 kB)\n",
            "Collecting websockets>=12.0 (from deepgram-sdk)\n",
            "  Downloading websockets-13.1-cp310-cp310-manylinux_2_5_x86_64.manylinux1_x86_64.manylinux_2_17_x86_64.manylinux2014_x86_64.whl.metadata (6.8 kB)\n",
            "Collecting dataclasses-json>=0.6.3 (from deepgram-sdk)\n",
            "  Downloading dataclasses_json-0.6.7-py3-none-any.whl.metadata (25 kB)\n",
            "Requirement already satisfied: typing-extensions>=4.9.0 in /usr/local/lib/python3.10/dist-packages (from deepgram-sdk) (4.12.2)\n",
            "Requirement already satisfied: aiohttp>=3.9.1 in /usr/local/lib/python3.10/dist-packages (from deepgram-sdk) (3.10.9)\n",
            "Collecting aiofiles>=23.2.1 (from deepgram-sdk)\n",
            "  Downloading aiofiles-24.1.0-py3-none-any.whl.metadata (10 kB)\n",
            "Collecting aenum>=3.1.0 (from deepgram-sdk)\n",
            "  Downloading aenum-3.1.15-py3-none-any.whl.metadata (3.7 kB)\n",
            "Collecting deprecation>=2.1.0 (from deepgram-sdk)\n",
            "  Downloading deprecation-2.1.0-py2.py3-none-any.whl.metadata (4.6 kB)\n",
            "Requirement already satisfied: aiohappyeyeballs>=2.3.0 in /usr/local/lib/python3.10/dist-packages (from aiohttp>=3.9.1->deepgram-sdk) (2.4.3)\n",
            "Requirement already satisfied: aiosignal>=1.1.2 in /usr/local/lib/python3.10/dist-packages (from aiohttp>=3.9.1->deepgram-sdk) (1.3.1)\n",
            "Requirement already satisfied: attrs>=17.3.0 in /usr/local/lib/python3.10/dist-packages (from aiohttp>=3.9.1->deepgram-sdk) (24.2.0)\n",
            "Requirement already satisfied: frozenlist>=1.1.1 in /usr/local/lib/python3.10/dist-packages (from aiohttp>=3.9.1->deepgram-sdk) (1.4.1)\n",
            "Requirement already satisfied: multidict<7.0,>=4.5 in /usr/local/lib/python3.10/dist-packages (from aiohttp>=3.9.1->deepgram-sdk) (6.1.0)\n",
            "Requirement already satisfied: yarl<2.0,>=1.12.0 in /usr/local/lib/python3.10/dist-packages (from aiohttp>=3.9.1->deepgram-sdk) (1.13.1)\n",
            "Requirement already satisfied: async-timeout<5.0,>=4.0 in /usr/local/lib/python3.10/dist-packages (from aiohttp>=3.9.1->deepgram-sdk) (4.0.3)\n",
            "Collecting marshmallow<4.0.0,>=3.18.0 (from dataclasses-json>=0.6.3->deepgram-sdk)\n",
            "  Downloading marshmallow-3.22.0-py3-none-any.whl.metadata (7.2 kB)\n",
            "Collecting typing-inspect<1,>=0.4.0 (from dataclasses-json>=0.6.3->deepgram-sdk)\n",
            "  Downloading typing_inspect-0.9.0-py3-none-any.whl.metadata (1.5 kB)\n",
            "Requirement already satisfied: packaging in /usr/local/lib/python3.10/dist-packages (from deprecation>=2.1.0->deepgram-sdk) (24.1)\n",
            "Requirement already satisfied: anyio in /usr/local/lib/python3.10/dist-packages (from httpx>=0.25.2->deepgram-sdk) (3.7.1)\n",
            "Requirement already satisfied: certifi in /usr/local/lib/python3.10/dist-packages (from httpx>=0.25.2->deepgram-sdk) (2024.8.30)\n",
            "Collecting httpcore==1.* (from httpx>=0.25.2->deepgram-sdk)\n",
            "  Downloading httpcore-1.0.6-py3-none-any.whl.metadata (21 kB)\n",
            "Requirement already satisfied: idna in /usr/local/lib/python3.10/dist-packages (from httpx>=0.25.2->deepgram-sdk) (3.10)\n",
            "Requirement already satisfied: sniffio in /usr/local/lib/python3.10/dist-packages (from httpx>=0.25.2->deepgram-sdk) (1.3.1)\n",
            "Collecting h11<0.15,>=0.13 (from httpcore==1.*->httpx>=0.25.2->deepgram-sdk)\n",
            "  Downloading h11-0.14.0-py3-none-any.whl.metadata (8.2 kB)\n",
            "Collecting mypy-extensions>=0.3.0 (from typing-inspect<1,>=0.4.0->dataclasses-json>=0.6.3->deepgram-sdk)\n",
            "  Downloading mypy_extensions-1.0.0-py3-none-any.whl.metadata (1.1 kB)\n",
            "Requirement already satisfied: exceptiongroup in /usr/local/lib/python3.10/dist-packages (from anyio->httpx>=0.25.2->deepgram-sdk) (1.2.2)\n",
            "Downloading deepgram_sdk-3.7.3-py3-none-any.whl (130 kB)\n",
            "\u001b[2K   \u001b[90m━━━━━━━━━━━━━━━━━━━━━━━━━━━━━━━━━━━━━━━━\u001b[0m \u001b[32m130.3/130.3 kB\u001b[0m \u001b[31m8.0 MB/s\u001b[0m eta \u001b[36m0:00:00\u001b[0m\n",
            "\u001b[?25hDownloading aenum-3.1.15-py3-none-any.whl (137 kB)\n",
            "\u001b[2K   \u001b[90m━━━━━━━━━━━━━━━━━━━━━━━━━━━━━━━━━━━━━━━━\u001b[0m \u001b[32m137.6/137.6 kB\u001b[0m \u001b[31m10.5 MB/s\u001b[0m eta \u001b[36m0:00:00\u001b[0m\n",
            "\u001b[?25hDownloading aiofiles-24.1.0-py3-none-any.whl (15 kB)\n",
            "Downloading dataclasses_json-0.6.7-py3-none-any.whl (28 kB)\n",
            "Downloading deprecation-2.1.0-py2.py3-none-any.whl (11 kB)\n",
            "Downloading httpx-0.27.2-py3-none-any.whl (76 kB)\n",
            "\u001b[2K   \u001b[90m━━━━━━━━━━━━━━━━━━━━━━━━━━━━━━━━━━━━━━━━\u001b[0m \u001b[32m76.4/76.4 kB\u001b[0m \u001b[31m6.3 MB/s\u001b[0m eta \u001b[36m0:00:00\u001b[0m\n",
            "\u001b[?25hDownloading httpcore-1.0.6-py3-none-any.whl (78 kB)\n",
            "\u001b[2K   \u001b[90m━━━━━━━━━━━━━━━━━━━━━━━━━━━━━━━━━━━━━━━━\u001b[0m \u001b[32m78.0/78.0 kB\u001b[0m \u001b[31m5.8 MB/s\u001b[0m eta \u001b[36m0:00:00\u001b[0m\n",
            "\u001b[?25hDownloading websockets-13.1-cp310-cp310-manylinux_2_5_x86_64.manylinux1_x86_64.manylinux_2_17_x86_64.manylinux2014_x86_64.whl (164 kB)\n",
            "\u001b[2K   \u001b[90m━━━━━━━━━━━━━━━━━━━━━━━━━━━━━━━━━━━━━━━━\u001b[0m \u001b[32m164.1/164.1 kB\u001b[0m \u001b[31m12.8 MB/s\u001b[0m eta \u001b[36m0:00:00\u001b[0m\n",
            "\u001b[?25hDownloading marshmallow-3.22.0-py3-none-any.whl (49 kB)\n",
            "\u001b[2K   \u001b[90m━━━━━━━━━━━━━━━━━━━━━━━━━━━━━━━━━━━━━━━━\u001b[0m \u001b[32m49.3/49.3 kB\u001b[0m \u001b[31m4.1 MB/s\u001b[0m eta \u001b[36m0:00:00\u001b[0m\n",
            "\u001b[?25hDownloading typing_inspect-0.9.0-py3-none-any.whl (8.8 kB)\n",
            "Downloading h11-0.14.0-py3-none-any.whl (58 kB)\n",
            "\u001b[2K   \u001b[90m━━━━━━━━━━━━━━━━━━━━━━━━━━━━━━━━━━━━━━━━\u001b[0m \u001b[32m58.3/58.3 kB\u001b[0m \u001b[31m4.9 MB/s\u001b[0m eta \u001b[36m0:00:00\u001b[0m\n",
            "\u001b[?25hDownloading mypy_extensions-1.0.0-py3-none-any.whl (4.7 kB)\n",
            "Installing collected packages: aenum, websockets, mypy-extensions, marshmallow, h11, deprecation, aiofiles, typing-inspect, httpcore, httpx, dataclasses-json, deepgram-sdk\n",
            "Successfully installed aenum-3.1.15 aiofiles-24.1.0 dataclasses-json-0.6.7 deepgram-sdk-3.7.3 deprecation-2.1.0 h11-0.14.0 httpcore-1.0.6 httpx-0.27.2 marshmallow-3.22.0 mypy-extensions-1.0.0 typing-inspect-0.9.0 websockets-13.1\n"
          ]
        }
      ],
      "source": [
        "!pip install deepgram-sdk"
      ]
    },
    {
      "cell_type": "code",
      "source": [
        "!pip install pyannote.core\n",
        "!pip install pyannote.metrics"
      ],
      "metadata": {
        "colab": {
          "base_uri": "https://localhost:8080/"
        },
        "id": "hklkxkesA5N-",
        "outputId": "d0d01b30-6bec-41ce-a270-4e0b5f47747d"
      },
      "execution_count": null,
      "outputs": [
        {
          "output_type": "stream",
          "name": "stdout",
          "text": [
            "Collecting pyannote.core\n",
            "  Downloading pyannote.core-5.0.0-py3-none-any.whl.metadata (1.4 kB)\n",
            "Requirement already satisfied: sortedcontainers>=2.0.4 in /usr/local/lib/python3.10/dist-packages (from pyannote.core) (2.4.0)\n",
            "Requirement already satisfied: numpy>=1.10.4 in /usr/local/lib/python3.10/dist-packages (from pyannote.core) (1.26.4)\n",
            "Requirement already satisfied: scipy>=1.1 in /usr/local/lib/python3.10/dist-packages (from pyannote.core) (1.13.1)\n",
            "Requirement already satisfied: typing-extensions>=3.7.4.1 in /usr/local/lib/python3.10/dist-packages (from pyannote.core) (4.12.2)\n",
            "Downloading pyannote.core-5.0.0-py3-none-any.whl (58 kB)\n",
            "\u001b[?25l   \u001b[90m━━━━━━━━━━━━━━━━━━━━━━━━━━━━━━━━━━━━━━━━\u001b[0m \u001b[32m0.0/58.5 kB\u001b[0m \u001b[31m?\u001b[0m eta \u001b[36m-:--:--\u001b[0m\r\u001b[2K   \u001b[90m━━━━━━━━━━━━━━━━━━━━━━━━━━━━━━━━━━━━━━━━\u001b[0m \u001b[32m58.5/58.5 kB\u001b[0m \u001b[31m3.7 MB/s\u001b[0m eta \u001b[36m0:00:00\u001b[0m\n",
            "\u001b[?25hInstalling collected packages: pyannote.core\n",
            "Successfully installed pyannote.core-5.0.0\n",
            "Collecting pyannote.metrics\n",
            "  Downloading pyannote.metrics-3.2.1-py3-none-any.whl.metadata (1.3 kB)\n",
            "Requirement already satisfied: pyannote.core>=4.1 in /usr/local/lib/python3.10/dist-packages (from pyannote.metrics) (5.0.0)\n",
            "Collecting pyannote.database>=4.0.1 (from pyannote.metrics)\n",
            "  Downloading pyannote.database-5.1.0-py3-none-any.whl.metadata (1.2 kB)\n",
            "Requirement already satisfied: pandas>=0.19 in /usr/local/lib/python3.10/dist-packages (from pyannote.metrics) (2.2.2)\n",
            "Requirement already satisfied: scipy>=1.1.0 in /usr/local/lib/python3.10/dist-packages (from pyannote.metrics) (1.13.1)\n",
            "Requirement already satisfied: scikit-learn>=0.17.1 in /usr/local/lib/python3.10/dist-packages (from pyannote.metrics) (1.5.2)\n",
            "Collecting docopt>=0.6.2 (from pyannote.metrics)\n",
            "  Downloading docopt-0.6.2.tar.gz (25 kB)\n",
            "  Preparing metadata (setup.py) ... \u001b[?25l\u001b[?25hdone\n",
            "Requirement already satisfied: tabulate>=0.7.7 in /usr/local/lib/python3.10/dist-packages (from pyannote.metrics) (0.9.0)\n",
            "Requirement already satisfied: matplotlib>=2.0.0 in /usr/local/lib/python3.10/dist-packages (from pyannote.metrics) (3.7.1)\n",
            "Requirement already satisfied: sympy>=1.1 in /usr/local/lib/python3.10/dist-packages (from pyannote.metrics) (1.13.3)\n",
            "Requirement already satisfied: numpy in /usr/local/lib/python3.10/dist-packages (from pyannote.metrics) (1.26.4)\n",
            "Requirement already satisfied: contourpy>=1.0.1 in /usr/local/lib/python3.10/dist-packages (from matplotlib>=2.0.0->pyannote.metrics) (1.3.0)\n",
            "Requirement already satisfied: cycler>=0.10 in /usr/local/lib/python3.10/dist-packages (from matplotlib>=2.0.0->pyannote.metrics) (0.12.1)\n",
            "Requirement already satisfied: fonttools>=4.22.0 in /usr/local/lib/python3.10/dist-packages (from matplotlib>=2.0.0->pyannote.metrics) (4.54.1)\n",
            "Requirement already satisfied: kiwisolver>=1.0.1 in /usr/local/lib/python3.10/dist-packages (from matplotlib>=2.0.0->pyannote.metrics) (1.4.7)\n",
            "Requirement already satisfied: packaging>=20.0 in /usr/local/lib/python3.10/dist-packages (from matplotlib>=2.0.0->pyannote.metrics) (24.1)\n",
            "Requirement already satisfied: pillow>=6.2.0 in /usr/local/lib/python3.10/dist-packages (from matplotlib>=2.0.0->pyannote.metrics) (10.4.0)\n",
            "Requirement already satisfied: pyparsing>=2.3.1 in /usr/local/lib/python3.10/dist-packages (from matplotlib>=2.0.0->pyannote.metrics) (3.1.4)\n",
            "Requirement already satisfied: python-dateutil>=2.7 in /usr/local/lib/python3.10/dist-packages (from matplotlib>=2.0.0->pyannote.metrics) (2.8.2)\n",
            "Requirement already satisfied: pytz>=2020.1 in /usr/local/lib/python3.10/dist-packages (from pandas>=0.19->pyannote.metrics) (2024.2)\n",
            "Requirement already satisfied: tzdata>=2022.7 in /usr/local/lib/python3.10/dist-packages (from pandas>=0.19->pyannote.metrics) (2024.2)\n",
            "Requirement already satisfied: sortedcontainers>=2.0.4 in /usr/local/lib/python3.10/dist-packages (from pyannote.core>=4.1->pyannote.metrics) (2.4.0)\n",
            "Requirement already satisfied: typing-extensions>=3.7.4.1 in /usr/local/lib/python3.10/dist-packages (from pyannote.core>=4.1->pyannote.metrics) (4.12.2)\n",
            "Requirement already satisfied: pyYAML>=3.12 in /usr/local/lib/python3.10/dist-packages (from pyannote.database>=4.0.1->pyannote.metrics) (6.0.2)\n",
            "Requirement already satisfied: typer>=0.12.1 in /usr/local/lib/python3.10/dist-packages (from pyannote.database>=4.0.1->pyannote.metrics) (0.12.5)\n",
            "Requirement already satisfied: joblib>=1.2.0 in /usr/local/lib/python3.10/dist-packages (from scikit-learn>=0.17.1->pyannote.metrics) (1.4.2)\n",
            "Requirement already satisfied: threadpoolctl>=3.1.0 in /usr/local/lib/python3.10/dist-packages (from scikit-learn>=0.17.1->pyannote.metrics) (3.5.0)\n",
            "Requirement already satisfied: mpmath<1.4,>=1.1.0 in /usr/local/lib/python3.10/dist-packages (from sympy>=1.1->pyannote.metrics) (1.3.0)\n",
            "Requirement already satisfied: six>=1.5 in /usr/local/lib/python3.10/dist-packages (from python-dateutil>=2.7->matplotlib>=2.0.0->pyannote.metrics) (1.16.0)\n",
            "Requirement already satisfied: click>=8.0.0 in /usr/local/lib/python3.10/dist-packages (from typer>=0.12.1->pyannote.database>=4.0.1->pyannote.metrics) (8.1.7)\n",
            "Requirement already satisfied: shellingham>=1.3.0 in /usr/local/lib/python3.10/dist-packages (from typer>=0.12.1->pyannote.database>=4.0.1->pyannote.metrics) (1.5.4)\n",
            "Requirement already satisfied: rich>=10.11.0 in /usr/local/lib/python3.10/dist-packages (from typer>=0.12.1->pyannote.database>=4.0.1->pyannote.metrics) (13.9.2)\n",
            "Requirement already satisfied: markdown-it-py>=2.2.0 in /usr/local/lib/python3.10/dist-packages (from rich>=10.11.0->typer>=0.12.1->pyannote.database>=4.0.1->pyannote.metrics) (3.0.0)\n",
            "Requirement already satisfied: pygments<3.0.0,>=2.13.0 in /usr/local/lib/python3.10/dist-packages (from rich>=10.11.0->typer>=0.12.1->pyannote.database>=4.0.1->pyannote.metrics) (2.18.0)\n",
            "Requirement already satisfied: mdurl~=0.1 in /usr/local/lib/python3.10/dist-packages (from markdown-it-py>=2.2.0->rich>=10.11.0->typer>=0.12.1->pyannote.database>=4.0.1->pyannote.metrics) (0.1.2)\n",
            "Downloading pyannote.metrics-3.2.1-py3-none-any.whl (51 kB)\n",
            "\u001b[2K   \u001b[90m━━━━━━━━━━━━━━━━━━━━━━━━━━━━━━━━━━━━━━━━\u001b[0m \u001b[32m51.4/51.4 kB\u001b[0m \u001b[31m3.2 MB/s\u001b[0m eta \u001b[36m0:00:00\u001b[0m\n",
            "\u001b[?25hDownloading pyannote.database-5.1.0-py3-none-any.whl (48 kB)\n",
            "\u001b[2K   \u001b[90m━━━━━━━━━━━━━━━━━━━━━━━━━━━━━━━━━━━━━━━━\u001b[0m \u001b[32m48.1/48.1 kB\u001b[0m \u001b[31m4.5 MB/s\u001b[0m eta \u001b[36m0:00:00\u001b[0m\n",
            "\u001b[?25hBuilding wheels for collected packages: docopt\n",
            "  Building wheel for docopt (setup.py) ... \u001b[?25l\u001b[?25hdone\n",
            "  Created wheel for docopt: filename=docopt-0.6.2-py2.py3-none-any.whl size=13704 sha256=49e01c8b32165b207529fc3f12186174db61e1fae1785e1c156e115245cb9152\n",
            "  Stored in directory: /root/.cache/pip/wheels/fc/ab/d4/5da2067ac95b36618c629a5f93f809425700506f72c9732fac\n",
            "Successfully built docopt\n",
            "Installing collected packages: docopt, pyannote.database, pyannote.metrics\n",
            "Successfully installed docopt-0.6.2 pyannote.database-5.1.0 pyannote.metrics-3.2.1\n"
          ]
        }
      ]
    },
    {
      "cell_type": "code",
      "source": [
        "import pandas as pd"
      ],
      "metadata": {
        "id": "dZ557SAT0tf7"
      },
      "execution_count": null,
      "outputs": []
    },
    {
      "cell_type": "code",
      "source": [
        "dataset = pd.read_csv('/content/drive/MyDrive/AfriSpeech-Dialog-data/data/diarized_tag_afrispeech_dialog_v1.1_49.csv')"
      ],
      "metadata": {
        "id": "jeqd3ZPD0dCr"
      },
      "execution_count": null,
      "outputs": []
    },
    {
      "cell_type": "code",
      "source": [
        "diarize_ds = dataset[dataset['all_timestamps']==True].reset_index(drop=True)"
      ],
      "metadata": {
        "id": "ijLhk02_0sZE"
      },
      "execution_count": null,
      "outputs": []
    },
    {
      "cell_type": "code",
      "source": [
        "#remove the 1, 26, 28 rows with incomplete timestamps\n",
        "diarize_ds = diarize_ds.drop([1, 26, 28]).reset_index(drop=True)\n",
        "# print(diarize_ds.iloc[28]['transcript'][200:])"
      ],
      "metadata": {
        "id": "4j2kOZrE02ss"
      },
      "execution_count": null,
      "outputs": []
    },
    {
      "cell_type": "code",
      "source": [
        "diarize_ds['path'] = diarize_ds['path'].apply(lambda x: x.replace('data/non-medical', '/content/drive/MyDrive/AfriSpeech-Dialog-data/data/non-medical'))\n",
        "diarize_ds['path'] = diarize_ds['path'].apply(lambda x: x.replace('/data/medical', '/content/drive/MyDrive/AfriSpeech-Dialog-data/data/medical'))"
      ],
      "metadata": {
        "id": "1lug5Ol105_P"
      },
      "execution_count": null,
      "outputs": []
    },
    {
      "cell_type": "code",
      "source": [
        "import getpass\n",
        "DEEPGRAM_API_KEY = getpass.getpass('Deepgram API Key: ')"
      ],
      "metadata": {
        "colab": {
          "base_uri": "https://localhost:8080/"
        },
        "id": "ShVr3Js11AzT",
        "outputId": "f6e37ebb-0707-4171-a640-e02586fce911"
      },
      "execution_count": null,
      "outputs": [
        {
          "name": "stdout",
          "output_type": "stream",
          "text": [
            "Deepgram API Key: ··········\n"
          ]
        }
      ]
    },
    {
      "cell_type": "code",
      "source": [
        "from deepgram import DeepgramClient, PrerecordedOptions\n"
      ],
      "metadata": {
        "id": "Ecn6jqvF1KbD"
      },
      "execution_count": null,
      "outputs": []
    },
    {
      "cell_type": "code",
      "source": [
        "diarize_ds.iloc[0]['path']"
      ],
      "metadata": {
        "colab": {
          "base_uri": "https://localhost:8080/",
          "height": 53
        },
        "id": "bvMJLIRB2aeB",
        "outputId": "60208066-85a5-4b7e-e995-4979efb52163"
      },
      "execution_count": null,
      "outputs": [
        {
          "output_type": "execute_result",
          "data": {
            "text/plain": [
              "'/content/drive/MyDrive/AfriSpeech-Dialog-data/data/medical/392c7093-7347-40b8-ab37-db1dcc90945d_4a687442bebec55ed82550bf1617ff4f_tazfKVuj.wav'"
            ],
            "application/vnd.google.colaboratory.intrinsic+json": {
              "type": "string"
            }
          },
          "metadata": {},
          "execution_count": 11
        }
      ]
    },
    {
      "cell_type": "code",
      "source": [
        "def transcribe(audio_path):\n",
        "    deepgram = DeepgramClient(DEEPGRAM_API_KEY)\n",
        "\n",
        "    with open(audio_path, 'rb') as buffer_data:\n",
        "        payload = { 'buffer': buffer_data }\n",
        "\n",
        "        options = PrerecordedOptions(\n",
        "            smart_format=True, model=\"nova-2\", language=\"en-US\", diarize=True\n",
        "        )\n",
        "\n",
        "        response = deepgram.listen.prerecorded.v('1').transcribe_file(payload, options)\n",
        "        # print(response.to_json(indent=4))\n",
        "        return response"
      ],
      "metadata": {
        "id": "Fp9v-0Zt2XxE"
      },
      "execution_count": null,
      "outputs": []
    },
    {
      "cell_type": "code",
      "source": [
        "test_res = transcribe(diarize_ds.iloc[0]['path'])"
      ],
      "metadata": {
        "colab": {
          "base_uri": "https://localhost:8080/"
        },
        "collapsed": true,
        "id": "xIO4qcI22et5",
        "outputId": "c1e66c48-d965-4635-d394-9ab4a4fa346c"
      },
      "execution_count": null,
      "outputs": [
        {
          "output_type": "stream",
          "name": "stderr",
          "text": [
            "<ipython-input-19-d677953a3e1e>:11: DeprecatedWarning: prerecorded is deprecated as of 3.4.0 and will be removed in 4.0.0. deepgram.listen.prerecorded is deprecated. Use deepgram.listen.rest instead.\n",
            "  response = deepgram.listen.prerecorded.v('1').transcribe_file(payload, options)\n"
          ]
        }
      ]
    },
    {
      "cell_type": "code",
      "source": [
        "type(test_res)"
      ],
      "metadata": {
        "colab": {
          "base_uri": "https://localhost:8080/"
        },
        "id": "XO6rWM4J2ilH",
        "outputId": "26c4cddb-9759-426b-8c2f-665f1898a132"
      },
      "execution_count": null,
      "outputs": [
        {
          "output_type": "execute_result",
          "data": {
            "text/plain": [
              "deepgram.clients.listen.v1.rest.response.PrerecordedResponse"
            ]
          },
          "metadata": {},
          "execution_count": 21
        }
      ]
    },
    {
      "cell_type": "code",
      "source": [
        "len(test_res['results']['channels'][0]['alternatives'][0]['paragraphs']['paragraphs'])"
      ],
      "metadata": {
        "colab": {
          "base_uri": "https://localhost:8080/"
        },
        "id": "SzCR1BI-7LA9",
        "outputId": "976c2f6b-2597-49a4-bddd-6bf4638bcc02"
      },
      "execution_count": null,
      "outputs": [
        {
          "output_type": "execute_result",
          "data": {
            "text/plain": [
              "143"
            ]
          },
          "metadata": {},
          "execution_count": 27
        }
      ]
    },
    {
      "cell_type": "code",
      "source": [
        "def extract_segments(data):\n",
        "    segments = []\n",
        "    # Loop through the list of dictionaries\n",
        "    for entry in data:\n",
        "        start_time = entry['start']  # Start time\n",
        "        end_time = entry['end']  # End time\n",
        "        speaker_tag = f\"Speaker {entry['speaker']}\"  # Speaker tag\n",
        "\n",
        "        # Append the tuple (start, end, speaker_tag) to the segments list\n",
        "        segments.append((start_time, end_time, speaker_tag))\n",
        "\n",
        "    return segments"
      ],
      "metadata": {
        "id": "DPtDHbO38CUH"
      },
      "execution_count": null,
      "outputs": []
    },
    {
      "cell_type": "code",
      "source": [
        "extract_segments(test_res['results']['channels'][0]['alternatives'][0]['paragraphs']['paragraphs'])"
      ],
      "metadata": {
        "colab": {
          "base_uri": "https://localhost:8080/"
        },
        "collapsed": true,
        "id": "usce9T479es2",
        "outputId": "ecb031b0-f252-4f00-a68c-f447bb005636"
      },
      "execution_count": null,
      "outputs": [
        {
          "output_type": "execute_result",
          "data": {
            "text/plain": [
              "[(0.88, 1.6999999, 'Speaker 0'),\n",
              " (3.84, 7.62, 'Speaker 1'),\n",
              " (9.12, 12.179999, 'Speaker 0'),\n",
              " (14.205, 16.065, 'Speaker 1'),\n",
              " (17.085, 18.305, 'Speaker 0'),\n",
              " (19.645, 23.585, 'Speaker 1'),\n",
              " (25.724998, 34.28, 'Speaker 0'),\n",
              " (36.18, 44.365, 'Speaker 1'),\n",
              " (45.705, 46.605003, 'Speaker 0'),\n",
              " (47.305, 50.605003, 'Speaker 1'),\n",
              " (51.785004, 53.645, 'Speaker 0'),\n",
              " (54.905003, 58.19, 'Speaker 1'),\n",
              " (59.85, 61.789997, 'Speaker 0'),\n",
              " (62.57, 67.149994, 'Speaker 1'),\n",
              " (68.815, 69.875, 'Speaker 0'),\n",
              " (71.295, 73.155, 'Speaker 1'),\n",
              " (74.015, 75.155, 'Speaker 0'),\n",
              " (76.095, 79.155, 'Speaker 1'),\n",
              " (80.975, 81.875, 'Speaker 0'),\n",
              " (83.49, 86.39, 'Speaker 1'),\n",
              " (87.649994, 88.869995, 'Speaker 0'),\n",
              " (90.049995, 100.645, 'Speaker 1'),\n",
              " (101.744995, 103.685, 'Speaker 0'),\n",
              " (104.225, 109.205, 'Speaker 1'),\n",
              " (110.065, 111.924995, 'Speaker 0'),\n",
              " (114.17, 119.63, 'Speaker 1'),\n",
              " (121.45, 125.31, 'Speaker 0'),\n",
              " (127.85, 129.74501, 'Speaker 1'),\n",
              " (130.02501, 130.925, 'Speaker 0'),\n",
              " (131.865, 142.285, 'Speaker 1'),\n",
              " (144.5, 147.4, 'Speaker 0'),\n",
              " (148.42, 170.015, 'Speaker 1'),\n",
              " (171.54001, 175.88, 'Speaker 0'),\n",
              " (176.74, 178.84, 'Speaker 1'),\n",
              " (179.22, 179.72, 'Speaker 0'),\n",
              " (179.86, 189.50499, 'Speaker 1'),\n",
              " (192.44499, 201.25, 'Speaker 0'),\n",
              " (201.25, 223.605, 'Speaker 1'),\n",
              " (227.105, 228.005, 'Speaker 0'),\n",
              " (229.5, 231.44, 'Speaker 1'),\n",
              " (231.74, 235.28, 'Speaker 0'),\n",
              " (237.02, 254.495, 'Speaker 1'),\n",
              " (255.75499, 258.415, 'Speaker 0'),\n",
              " (259.63998, 262.37997, 'Speaker 1'),\n",
              " (263.31998, 263.63998, 'Speaker 0'),\n",
              " (263.63998, 272.06, 'Speaker 1'),\n",
              " (275.655, 279.335, 'Speaker 0'),\n",
              " (279.335, 288.07498, 'Speaker 1'),\n",
              " (288.375, 289.71, 'Speaker 0'),\n",
              " (290.83, 297.09, 'Speaker 1'),\n",
              " (297.31, 299.71, 'Speaker 0'),\n",
              " (299.71, 321.47, 'Speaker 1'),\n",
              " (322.00998, 327.78998, 'Speaker 0'),\n",
              " (329.61, 347.49, 'Speaker 1'),\n",
              " (348.31, 351.27, 'Speaker 0'),\n",
              " (351.27, 351.94998, 'Speaker 1'),\n",
              " (352.22998, 353.37, 'Speaker 0'),\n",
              " (356.06998, 357.37, 'Speaker 1'),\n",
              " (359.175, 361.115, 'Speaker 0'),\n",
              " (362.13498, 364.85498, 'Speaker 1'),\n",
              " (365.175, 372.395, 'Speaker 0'),\n",
              " (372.455, 382.78, 'Speaker 1'),\n",
              " (388.905, 391.405, 'Speaker 0'),\n",
              " (392.585, 395.72498, 'Speaker 1'),\n",
              " (399.06497, 404.94998, 'Speaker 0'),\n",
              " (406.28998, 413.34998, 'Speaker 1'),\n",
              " (416.275, 425.155, 'Speaker 0'),\n",
              " (425.155, 428.135, 'Speaker 0'),\n",
              " (429.39502, 434.21, 'Speaker 1'),\n",
              " (437.79, 442.21, 'Speaker 0'),\n",
              " (443.15, 448.07498, 'Speaker 1'),\n",
              " (451.815, 454.395, 'Speaker 0'),\n",
              " (455.815, 463.88, 'Speaker 1'),\n",
              " (466.02, 468.6, 'Speaker 0'),\n",
              " (469.78, 475.535, 'Speaker 1'),\n",
              " (476.715, 478.895, 'Speaker 0'),\n",
              " (480.315, 483.695, 'Speaker 1'),\n",
              " (485.835, 488.655, 'Speaker 0'),\n",
              " (490.17, 493.15, 'Speaker 1'),\n",
              " (496.49, 498.59, 'Speaker 0'),\n",
              " (499.77, 508.195, 'Speaker 1'),\n",
              " (509.93503, 510.99503, 'Speaker 0'),\n",
              " (512.41504, 521.18, 'Speaker 1'),\n",
              " (523.08, 526.76, 'Speaker 0'),\n",
              " (526.76, 540.66504, 'Speaker 1'),\n",
              " (540.66504, 541.64496, 'Speaker 1'),\n",
              " (543.79, 546.05, 'Speaker 0'),\n",
              " (546.91003, 552.77, 'Speaker 1'),\n",
              " (555.31, 558.05, 'Speaker 0'),\n",
              " (558.945, 563.765, 'Speaker 1'),\n",
              " (566.705, 569.125, 'Speaker 0'),\n",
              " (569.98505, 573.205, 'Speaker 1'),\n",
              " (577.47, 579.32996, 'Speaker 0'),\n",
              " (580.82996, 590.545, 'Speaker 1'),\n",
              " (593.165, 596.465, 'Speaker 0'),\n",
              " (597.645, 603.78, 'Speaker 1'),\n",
              " (604.18, 605.39996, 'Speaker 0'),\n",
              " (607.06, 608.75995, 'Speaker 1'),\n",
              " (612.74, 613.62, 'Speaker 0'),\n",
              " (613.62, 614.57996, 'Speaker 1'),\n",
              " (614.57996, 615.31995, 'Speaker 0'),\n",
              " (616.475, 618.895, 'Speaker 1'),\n",
              " (620.955, 623.535, 'Speaker 0'),\n",
              " (624.955, 639.35, 'Speaker 1'),\n",
              " (641.56995, 645.11, 'Speaker 0'),\n",
              " (646.725, 647.225, 'Speaker 1'),\n",
              " (649.605, 650.105, 'Speaker 0'),\n",
              " (652.40497, 657.865, 'Speaker 1'),\n",
              " (661.08, 663.82, 'Speaker 0'),\n",
              " (665.24, 677.545, 'Speaker 1'),\n",
              " (680.885, 684.345, 'Speaker 0'),\n",
              " (685.32, 691.9, 'Speaker 1'),\n",
              " (693.56, 696.22003, 'Speaker 0'),\n",
              " (697.89496, 706.39496, 'Speaker 1'),\n",
              " (708.21497, 713.86, 'Speaker 0'),\n",
              " (714.56, 719.46, 'Speaker 1'),\n",
              " (721.52, 728.79504, 'Speaker 0'),\n",
              " (730.135, 733.35504, 'Speaker 1'),\n",
              " (735.015, 743.08, 'Speaker 0'),\n",
              " (744.34, 749.48, 'Speaker 1'),\n",
              " (751.62, 754.92, 'Speaker 0'),\n",
              " (756.055, 759.435, 'Speaker 1'),\n",
              " (761.415, 764.315, 'Speaker 0'),\n",
              " (766.295, 771.02997, 'Speaker 1'),\n",
              " (774.44995, 785.815, 'Speaker 0'),\n",
              " (786.995, 793.175, 'Speaker 1'),\n",
              " (795.395, 795.895, 'Speaker 0'),\n",
              " (797.12, 802.74, 'Speaker 1'),\n",
              " (804.48, 806.26, 'Speaker 0'),\n",
              " (807.52, 813.565, 'Speaker 1'),\n",
              " (816.105, 818.125, 'Speaker 0'),\n",
              " (818.185, 828.38995, 'Speaker 1'),\n",
              " (829.73, 832.07, 'Speaker 0'),\n",
              " (833.41, 845.505, 'Speaker 1'),\n",
              " (847.16504, 850.22504, 'Speaker 0'),\n",
              " (852.28503, 864.6, 'Speaker 1'),\n",
              " (866.83496, 867.575, 'Speaker 0'),\n",
              " (868.195, 882.66003, 'Speaker 1'),\n",
              " (884.72003, 885.38, 'Speaker 0'),\n",
              " (885.44, 893.7, 'Speaker 1'),\n",
              " (895.46497, 897.165, 'Speaker 0'),\n",
              " (898.185, 901.805, 'Speaker 1'),\n",
              " (903.305, 904.125, 'Speaker 0')]"
            ]
          },
          "metadata": {},
          "execution_count": 29
        }
      ]
    },
    {
      "cell_type": "code",
      "source": [
        "from tqdm import tqdm"
      ],
      "metadata": {
        "id": "BN7PXz7E9lpI"
      },
      "execution_count": null,
      "outputs": []
    },
    {
      "cell_type": "code",
      "source": [
        "diarize_ds['pred_segments'] = ''\n",
        "for i, path_ in tqdm(enumerate(diarize_ds['path']), total=len(diarize_ds['path']), desc='Processing'):\n",
        "  res = transcribe(path_)\n",
        "  pred_segments = extract_segments(res['results']['channels'][0]['alternatives'][0]['paragraphs']['paragraphs'])\n",
        "  diarize_ds.at[i, 'pred_segments'] = pred_segments"
      ],
      "metadata": {
        "colab": {
          "base_uri": "https://localhost:8080/"
        },
        "id": "yuvbdyb--KyR",
        "outputId": "6bbbe0f5-c9cb-4ccc-fd9f-2805c81f3a13"
      },
      "execution_count": null,
      "outputs": [
        {
          "output_type": "stream",
          "name": "stderr",
          "text": [
            "\rProcessing:   0%|          | 0/30 [00:00<?, ?it/s]<ipython-input-19-d677953a3e1e>:11: DeprecatedWarning: prerecorded is deprecated as of 3.4.0 and will be removed in 4.0.0. deepgram.listen.prerecorded is deprecated. Use deepgram.listen.rest instead.\n",
            "  response = deepgram.listen.prerecorded.v('1').transcribe_file(payload, options)\n",
            "Processing: 100%|██████████| 30/30 [05:43<00:00, 11.46s/it]\n"
          ]
        }
      ]
    },
    {
      "cell_type": "code",
      "source": [
        "import re"
      ],
      "metadata": {
        "id": "NWcXVSg0Ai8X"
      },
      "execution_count": null,
      "outputs": []
    },
    {
      "cell_type": "code",
      "source": [
        "def convert_time_to_seconds(timestamp):\n",
        "    # Split the timestamp into minutes, seconds, and milliseconds\n",
        "    minutes, seconds, milliseconds = map(float, timestamp.split(':'))\n",
        "    # Convert the time to seconds (including fractional part from milliseconds)\n",
        "    total_seconds = minutes * 60 + seconds + milliseconds / 1000\n",
        "    return total_seconds\n",
        "\n",
        "\n",
        "def extract_segments(transcript):\n",
        "    # Regular expression to match the timestamp and speaker tag\n",
        "    timestamp_pattern = r'(\\d{2}:\\d{2}:\\d{2})'\n",
        "    speaker_pattern = r'\\[([^\\]]+)\\]'\n",
        "\n",
        "    lines = transcript.strip().splitlines()\n",
        "    segments = []\n",
        "\n",
        "    start_time = None\n",
        "    speaker_tag = None\n",
        "\n",
        "    for i in range(len(lines)):\n",
        "        if re.match(timestamp_pattern, lines[i]):  # Line is a timestamp\n",
        "            if start_time and speaker_tag:\n",
        "                # If we have both start and speaker, the current timestamp is the end time\n",
        "                end_time = convert_time_to_seconds(lines[i])\n",
        "                segments.append((start_time, end_time, speaker_tag))\n",
        "                start_time = None\n",
        "                speaker_tag = None\n",
        "            # Set the new start time, converting to seconds\n",
        "            start_time = convert_time_to_seconds(lines[i])\n",
        "        elif re.match(speaker_pattern, lines[i]):  # Line contains a speaker tag\n",
        "            speaker_tag = re.findall(speaker_pattern, lines[i])[0]\n",
        "\n",
        "    return segments"
      ],
      "metadata": {
        "id": "UJ0bnapz-rWv"
      },
      "execution_count": null,
      "outputs": []
    },
    {
      "cell_type": "code",
      "source": [
        "#ensure new line before speaker tags\n",
        "diarize_ds['transcript'] = diarize_ds['transcript'].apply(lambda x: str(x).replace('[', '\\r\\n['))\n",
        "diarize_ds['ref_segments'] = diarize_ds['transcript'].apply(lambda x: extract_segments(x))"
      ],
      "metadata": {
        "id": "lsvDMn7aALgB"
      },
      "execution_count": null,
      "outputs": []
    },
    {
      "cell_type": "code",
      "source": [
        "diarize_ds.head()"
      ],
      "metadata": {
        "colab": {
          "base_uri": "https://localhost:8080/",
          "height": 521
        },
        "id": "vbtslbc8ApWR",
        "outputId": "faa9517c-9aad-4359-9f14-c13f66b2f29b"
      },
      "execution_count": null,
      "outputs": [
        {
          "output_type": "execute_result",
          "data": {
            "text/plain": [
              "                               audio_id  \\\n",
              "0  78fb7265-0373-49d5-b933-c28c95cf3eea   \n",
              "1  6d5f1e84-dbc5-42d3-898e-bfe9c2cfe166   \n",
              "2  ab8fd39d-52bc-48fa-bae9-ff636627f1e5   \n",
              "3  5129fd8c-7b8c-4d05-a03a-196bcae4deff   \n",
              "4  58efe9ef-6c76-4d17-b1b2-f397552a0c0e   \n",
              "\n",
              "                                                path  \\\n",
              "0  /content/drive/MyDrive/AfriSpeech-Dialog-data/...   \n",
              "1  /content/drive/MyDrive/AfriSpeech-Dialog-data/...   \n",
              "2  /content/drive/MyDrive/AfriSpeech-Dialog-data/...   \n",
              "3  /content/drive/MyDrive/AfriSpeech-Dialog-data/...   \n",
              "4  /content/drive/MyDrive/AfriSpeech-Dialog-data/...   \n",
              "\n",
              "                                          transcript age_group  gender  \\\n",
              "0  00:01:06\\r\\n\\r\\n[Speaker 1]: Are you there?\\r\\...     26-40    Male   \n",
              "1  00:00:06\\r\\n\\r\\n[Speaker 1]: Good evening, I'm...     26-40  Female   \n",
              "2  00:00:08\\r\\n\\r\\n[Speaker 1]: My name is Nwachu...     26-40  Female   \n",
              "3  00:00:50\\r\\n\\r\\n[Speaker 1]: My name is Chiama...     26-40  Female   \n",
              "4  00:01:13\\r\\n\\r\\n[Speaker 1]: Good day. I am Do...     26-40  Female   \n",
              "\n",
              "   accent               domain country  audio_duration  \\\n",
              "0  Yoruba  OSCE-Doctor-Patient      NG      906.433991   \n",
              "1  Urhobo  OSCE-Doctor-Patient      NG      204.622993   \n",
              "2  Urhobo  OSCE-Doctor-Patient      NG      343.260000   \n",
              "3  Urhobo  OSCE-Doctor-Patient      NG      337.587982   \n",
              "4  Urhobo  OSCE-Doctor-Patient      NG      213.635986   \n",
              "\n",
              "                                      doctor_summary  all_timestamps  \\\n",
              "0  Mr. Ade, a 35 year old unmarried Yoruba male t...            True   \n",
              "1  Johnny Dobra is a 35-year-old male who present...            True   \n",
              "2  The patient, a 45 year old female accontant, p...            True   \n",
              "3  John Peter, a 45-year-old construction worker,...            True   \n",
              "4  Peter, a 45-year-old male, presented to the ho...            True   \n",
              "\n",
              "                                       pred_segments  \\\n",
              "0  [(0.88, 1.6999999, Speaker 0), (3.84, 7.62, Sp...   \n",
              "1  [(0.08, 2.3999999, Speaker 0), (2.72, 6.259999...   \n",
              "2  [(0.08, 2.72, Speaker 0), (2.72, 9.78, Speaker...   \n",
              "3  [(0.56, 3.86, Speaker 0), (4.08, 6.58, Speaker...   \n",
              "4  [(1.04, 7.54, Speaker 0), (8.0, 10.5, Speaker ...   \n",
              "\n",
              "                                        ref_segments  \n",
              "0  [(1.006, 1.027, Speaker 1), (4.0, 8.038, Speak...  \n",
              "1  [(0.006, 2.028, Speaker 1), (2.049, 6.009, Spe...  \n",
              "2  [(0.008, 2.04, Speaker 1), (2.049, 5.023, Spea...  \n",
              "3  [(0.05, 3.044, Speaker 1), (4.016, 6.035, Spea...  \n",
              "4  [(1.013, 5.006, Speaker 1), (5.028, 6.028, Spe...  "
            ],
            "text/html": [
              "\n",
              "  <div id=\"df-29a26357-3610-4c3a-a31a-89b1a6fc2229\" class=\"colab-df-container\">\n",
              "    <div>\n",
              "<style scoped>\n",
              "    .dataframe tbody tr th:only-of-type {\n",
              "        vertical-align: middle;\n",
              "    }\n",
              "\n",
              "    .dataframe tbody tr th {\n",
              "        vertical-align: top;\n",
              "    }\n",
              "\n",
              "    .dataframe thead th {\n",
              "        text-align: right;\n",
              "    }\n",
              "</style>\n",
              "<table border=\"1\" class=\"dataframe\">\n",
              "  <thead>\n",
              "    <tr style=\"text-align: right;\">\n",
              "      <th></th>\n",
              "      <th>audio_id</th>\n",
              "      <th>path</th>\n",
              "      <th>transcript</th>\n",
              "      <th>age_group</th>\n",
              "      <th>gender</th>\n",
              "      <th>accent</th>\n",
              "      <th>domain</th>\n",
              "      <th>country</th>\n",
              "      <th>audio_duration</th>\n",
              "      <th>doctor_summary</th>\n",
              "      <th>all_timestamps</th>\n",
              "      <th>pred_segments</th>\n",
              "      <th>ref_segments</th>\n",
              "    </tr>\n",
              "  </thead>\n",
              "  <tbody>\n",
              "    <tr>\n",
              "      <th>0</th>\n",
              "      <td>78fb7265-0373-49d5-b933-c28c95cf3eea</td>\n",
              "      <td>/content/drive/MyDrive/AfriSpeech-Dialog-data/...</td>\n",
              "      <td>00:01:06\\r\\n\\r\\n[Speaker 1]: Are you there?\\r\\...</td>\n",
              "      <td>26-40</td>\n",
              "      <td>Male</td>\n",
              "      <td>Yoruba</td>\n",
              "      <td>OSCE-Doctor-Patient</td>\n",
              "      <td>NG</td>\n",
              "      <td>906.433991</td>\n",
              "      <td>Mr. Ade, a 35 year old unmarried Yoruba male t...</td>\n",
              "      <td>True</td>\n",
              "      <td>[(0.88, 1.6999999, Speaker 0), (3.84, 7.62, Sp...</td>\n",
              "      <td>[(1.006, 1.027, Speaker 1), (4.0, 8.038, Speak...</td>\n",
              "    </tr>\n",
              "    <tr>\n",
              "      <th>1</th>\n",
              "      <td>6d5f1e84-dbc5-42d3-898e-bfe9c2cfe166</td>\n",
              "      <td>/content/drive/MyDrive/AfriSpeech-Dialog-data/...</td>\n",
              "      <td>00:00:06\\r\\n\\r\\n[Speaker 1]: Good evening, I'm...</td>\n",
              "      <td>26-40</td>\n",
              "      <td>Female</td>\n",
              "      <td>Urhobo</td>\n",
              "      <td>OSCE-Doctor-Patient</td>\n",
              "      <td>NG</td>\n",
              "      <td>204.622993</td>\n",
              "      <td>Johnny Dobra is a 35-year-old male who present...</td>\n",
              "      <td>True</td>\n",
              "      <td>[(0.08, 2.3999999, Speaker 0), (2.72, 6.259999...</td>\n",
              "      <td>[(0.006, 2.028, Speaker 1), (2.049, 6.009, Spe...</td>\n",
              "    </tr>\n",
              "    <tr>\n",
              "      <th>2</th>\n",
              "      <td>ab8fd39d-52bc-48fa-bae9-ff636627f1e5</td>\n",
              "      <td>/content/drive/MyDrive/AfriSpeech-Dialog-data/...</td>\n",
              "      <td>00:00:08\\r\\n\\r\\n[Speaker 1]: My name is Nwachu...</td>\n",
              "      <td>26-40</td>\n",
              "      <td>Female</td>\n",
              "      <td>Urhobo</td>\n",
              "      <td>OSCE-Doctor-Patient</td>\n",
              "      <td>NG</td>\n",
              "      <td>343.260000</td>\n",
              "      <td>The patient, a 45 year old female accontant, p...</td>\n",
              "      <td>True</td>\n",
              "      <td>[(0.08, 2.72, Speaker 0), (2.72, 9.78, Speaker...</td>\n",
              "      <td>[(0.008, 2.04, Speaker 1), (2.049, 5.023, Spea...</td>\n",
              "    </tr>\n",
              "    <tr>\n",
              "      <th>3</th>\n",
              "      <td>5129fd8c-7b8c-4d05-a03a-196bcae4deff</td>\n",
              "      <td>/content/drive/MyDrive/AfriSpeech-Dialog-data/...</td>\n",
              "      <td>00:00:50\\r\\n\\r\\n[Speaker 1]: My name is Chiama...</td>\n",
              "      <td>26-40</td>\n",
              "      <td>Female</td>\n",
              "      <td>Urhobo</td>\n",
              "      <td>OSCE-Doctor-Patient</td>\n",
              "      <td>NG</td>\n",
              "      <td>337.587982</td>\n",
              "      <td>John Peter, a 45-year-old construction worker,...</td>\n",
              "      <td>True</td>\n",
              "      <td>[(0.56, 3.86, Speaker 0), (4.08, 6.58, Speaker...</td>\n",
              "      <td>[(0.05, 3.044, Speaker 1), (4.016, 6.035, Spea...</td>\n",
              "    </tr>\n",
              "    <tr>\n",
              "      <th>4</th>\n",
              "      <td>58efe9ef-6c76-4d17-b1b2-f397552a0c0e</td>\n",
              "      <td>/content/drive/MyDrive/AfriSpeech-Dialog-data/...</td>\n",
              "      <td>00:01:13\\r\\n\\r\\n[Speaker 1]: Good day. I am Do...</td>\n",
              "      <td>26-40</td>\n",
              "      <td>Female</td>\n",
              "      <td>Urhobo</td>\n",
              "      <td>OSCE-Doctor-Patient</td>\n",
              "      <td>NG</td>\n",
              "      <td>213.635986</td>\n",
              "      <td>Peter, a 45-year-old male, presented to the ho...</td>\n",
              "      <td>True</td>\n",
              "      <td>[(1.04, 7.54, Speaker 0), (8.0, 10.5, Speaker ...</td>\n",
              "      <td>[(1.013, 5.006, Speaker 1), (5.028, 6.028, Spe...</td>\n",
              "    </tr>\n",
              "  </tbody>\n",
              "</table>\n",
              "</div>\n",
              "    <div class=\"colab-df-buttons\">\n",
              "\n",
              "  <div class=\"colab-df-container\">\n",
              "    <button class=\"colab-df-convert\" onclick=\"convertToInteractive('df-29a26357-3610-4c3a-a31a-89b1a6fc2229')\"\n",
              "            title=\"Convert this dataframe to an interactive table.\"\n",
              "            style=\"display:none;\">\n",
              "\n",
              "  <svg xmlns=\"http://www.w3.org/2000/svg\" height=\"24px\" viewBox=\"0 -960 960 960\">\n",
              "    <path d=\"M120-120v-720h720v720H120Zm60-500h600v-160H180v160Zm220 220h160v-160H400v160Zm0 220h160v-160H400v160ZM180-400h160v-160H180v160Zm440 0h160v-160H620v160ZM180-180h160v-160H180v160Zm440 0h160v-160H620v160Z\"/>\n",
              "  </svg>\n",
              "    </button>\n",
              "\n",
              "  <style>\n",
              "    .colab-df-container {\n",
              "      display:flex;\n",
              "      gap: 12px;\n",
              "    }\n",
              "\n",
              "    .colab-df-convert {\n",
              "      background-color: #E8F0FE;\n",
              "      border: none;\n",
              "      border-radius: 50%;\n",
              "      cursor: pointer;\n",
              "      display: none;\n",
              "      fill: #1967D2;\n",
              "      height: 32px;\n",
              "      padding: 0 0 0 0;\n",
              "      width: 32px;\n",
              "    }\n",
              "\n",
              "    .colab-df-convert:hover {\n",
              "      background-color: #E2EBFA;\n",
              "      box-shadow: 0px 1px 2px rgba(60, 64, 67, 0.3), 0px 1px 3px 1px rgba(60, 64, 67, 0.15);\n",
              "      fill: #174EA6;\n",
              "    }\n",
              "\n",
              "    .colab-df-buttons div {\n",
              "      margin-bottom: 4px;\n",
              "    }\n",
              "\n",
              "    [theme=dark] .colab-df-convert {\n",
              "      background-color: #3B4455;\n",
              "      fill: #D2E3FC;\n",
              "    }\n",
              "\n",
              "    [theme=dark] .colab-df-convert:hover {\n",
              "      background-color: #434B5C;\n",
              "      box-shadow: 0px 1px 3px 1px rgba(0, 0, 0, 0.15);\n",
              "      filter: drop-shadow(0px 1px 2px rgba(0, 0, 0, 0.3));\n",
              "      fill: #FFFFFF;\n",
              "    }\n",
              "  </style>\n",
              "\n",
              "    <script>\n",
              "      const buttonEl =\n",
              "        document.querySelector('#df-29a26357-3610-4c3a-a31a-89b1a6fc2229 button.colab-df-convert');\n",
              "      buttonEl.style.display =\n",
              "        google.colab.kernel.accessAllowed ? 'block' : 'none';\n",
              "\n",
              "      async function convertToInteractive(key) {\n",
              "        const element = document.querySelector('#df-29a26357-3610-4c3a-a31a-89b1a6fc2229');\n",
              "        const dataTable =\n",
              "          await google.colab.kernel.invokeFunction('convertToInteractive',\n",
              "                                                    [key], {});\n",
              "        if (!dataTable) return;\n",
              "\n",
              "        const docLinkHtml = 'Like what you see? Visit the ' +\n",
              "          '<a target=\"_blank\" href=https://colab.research.google.com/notebooks/data_table.ipynb>data table notebook</a>'\n",
              "          + ' to learn more about interactive tables.';\n",
              "        element.innerHTML = '';\n",
              "        dataTable['output_type'] = 'display_data';\n",
              "        await google.colab.output.renderOutput(dataTable, element);\n",
              "        const docLink = document.createElement('div');\n",
              "        docLink.innerHTML = docLinkHtml;\n",
              "        element.appendChild(docLink);\n",
              "      }\n",
              "    </script>\n",
              "  </div>\n",
              "\n",
              "\n",
              "<div id=\"df-7175f4d1-728a-47d7-a409-6adb4b90d4b4\">\n",
              "  <button class=\"colab-df-quickchart\" onclick=\"quickchart('df-7175f4d1-728a-47d7-a409-6adb4b90d4b4')\"\n",
              "            title=\"Suggest charts\"\n",
              "            style=\"display:none;\">\n",
              "\n",
              "<svg xmlns=\"http://www.w3.org/2000/svg\" height=\"24px\"viewBox=\"0 0 24 24\"\n",
              "     width=\"24px\">\n",
              "    <g>\n",
              "        <path d=\"M19 3H5c-1.1 0-2 .9-2 2v14c0 1.1.9 2 2 2h14c1.1 0 2-.9 2-2V5c0-1.1-.9-2-2-2zM9 17H7v-7h2v7zm4 0h-2V7h2v10zm4 0h-2v-4h2v4z\"/>\n",
              "    </g>\n",
              "</svg>\n",
              "  </button>\n",
              "\n",
              "<style>\n",
              "  .colab-df-quickchart {\n",
              "      --bg-color: #E8F0FE;\n",
              "      --fill-color: #1967D2;\n",
              "      --hover-bg-color: #E2EBFA;\n",
              "      --hover-fill-color: #174EA6;\n",
              "      --disabled-fill-color: #AAA;\n",
              "      --disabled-bg-color: #DDD;\n",
              "  }\n",
              "\n",
              "  [theme=dark] .colab-df-quickchart {\n",
              "      --bg-color: #3B4455;\n",
              "      --fill-color: #D2E3FC;\n",
              "      --hover-bg-color: #434B5C;\n",
              "      --hover-fill-color: #FFFFFF;\n",
              "      --disabled-bg-color: #3B4455;\n",
              "      --disabled-fill-color: #666;\n",
              "  }\n",
              "\n",
              "  .colab-df-quickchart {\n",
              "    background-color: var(--bg-color);\n",
              "    border: none;\n",
              "    border-radius: 50%;\n",
              "    cursor: pointer;\n",
              "    display: none;\n",
              "    fill: var(--fill-color);\n",
              "    height: 32px;\n",
              "    padding: 0;\n",
              "    width: 32px;\n",
              "  }\n",
              "\n",
              "  .colab-df-quickchart:hover {\n",
              "    background-color: var(--hover-bg-color);\n",
              "    box-shadow: 0 1px 2px rgba(60, 64, 67, 0.3), 0 1px 3px 1px rgba(60, 64, 67, 0.15);\n",
              "    fill: var(--button-hover-fill-color);\n",
              "  }\n",
              "\n",
              "  .colab-df-quickchart-complete:disabled,\n",
              "  .colab-df-quickchart-complete:disabled:hover {\n",
              "    background-color: var(--disabled-bg-color);\n",
              "    fill: var(--disabled-fill-color);\n",
              "    box-shadow: none;\n",
              "  }\n",
              "\n",
              "  .colab-df-spinner {\n",
              "    border: 2px solid var(--fill-color);\n",
              "    border-color: transparent;\n",
              "    border-bottom-color: var(--fill-color);\n",
              "    animation:\n",
              "      spin 1s steps(1) infinite;\n",
              "  }\n",
              "\n",
              "  @keyframes spin {\n",
              "    0% {\n",
              "      border-color: transparent;\n",
              "      border-bottom-color: var(--fill-color);\n",
              "      border-left-color: var(--fill-color);\n",
              "    }\n",
              "    20% {\n",
              "      border-color: transparent;\n",
              "      border-left-color: var(--fill-color);\n",
              "      border-top-color: var(--fill-color);\n",
              "    }\n",
              "    30% {\n",
              "      border-color: transparent;\n",
              "      border-left-color: var(--fill-color);\n",
              "      border-top-color: var(--fill-color);\n",
              "      border-right-color: var(--fill-color);\n",
              "    }\n",
              "    40% {\n",
              "      border-color: transparent;\n",
              "      border-right-color: var(--fill-color);\n",
              "      border-top-color: var(--fill-color);\n",
              "    }\n",
              "    60% {\n",
              "      border-color: transparent;\n",
              "      border-right-color: var(--fill-color);\n",
              "    }\n",
              "    80% {\n",
              "      border-color: transparent;\n",
              "      border-right-color: var(--fill-color);\n",
              "      border-bottom-color: var(--fill-color);\n",
              "    }\n",
              "    90% {\n",
              "      border-color: transparent;\n",
              "      border-bottom-color: var(--fill-color);\n",
              "    }\n",
              "  }\n",
              "</style>\n",
              "\n",
              "  <script>\n",
              "    async function quickchart(key) {\n",
              "      const quickchartButtonEl =\n",
              "        document.querySelector('#' + key + ' button');\n",
              "      quickchartButtonEl.disabled = true;  // To prevent multiple clicks.\n",
              "      quickchartButtonEl.classList.add('colab-df-spinner');\n",
              "      try {\n",
              "        const charts = await google.colab.kernel.invokeFunction(\n",
              "            'suggestCharts', [key], {});\n",
              "      } catch (error) {\n",
              "        console.error('Error during call to suggestCharts:', error);\n",
              "      }\n",
              "      quickchartButtonEl.classList.remove('colab-df-spinner');\n",
              "      quickchartButtonEl.classList.add('colab-df-quickchart-complete');\n",
              "    }\n",
              "    (() => {\n",
              "      let quickchartButtonEl =\n",
              "        document.querySelector('#df-7175f4d1-728a-47d7-a409-6adb4b90d4b4 button');\n",
              "      quickchartButtonEl.style.display =\n",
              "        google.colab.kernel.accessAllowed ? 'block' : 'none';\n",
              "    })();\n",
              "  </script>\n",
              "</div>\n",
              "\n",
              "    </div>\n",
              "  </div>\n"
            ],
            "application/vnd.google.colaboratory.intrinsic+json": {
              "type": "dataframe",
              "variable_name": "diarize_ds",
              "summary": "{\n  \"name\": \"diarize_ds\",\n  \"rows\": 30,\n  \"fields\": [\n    {\n      \"column\": \"audio_id\",\n      \"properties\": {\n        \"dtype\": \"string\",\n        \"num_unique_values\": 30,\n        \"samples\": [\n          \"8b20c03b-0633-4952-992a-a05d93de5391\",\n          \"485be54f-1e4c-46e6-b3f8-d393ecbdcc3a\",\n          \"9f30ab0d-3078-4864-9a57-be162291d81e\"\n        ],\n        \"semantic_type\": \"\",\n        \"description\": \"\"\n      }\n    },\n    {\n      \"column\": \"path\",\n      \"properties\": {\n        \"dtype\": \"string\",\n        \"num_unique_values\": 30,\n        \"samples\": [\n          \"/content/drive/MyDrive/AfriSpeech-Dialog-data/data/non-medical/f533e2de-bac6-4866-8803-b33407813e92_c5dc37b2c0a006e90bcfbc99c7bb5393_QG8tr0md.wav\",\n          \"/content/drive/MyDrive/AfriSpeech-Dialog-data/data/non-medical/f01e751c-11e3-498b-a6ee-5d9bf11ac8cd_95fe9edeaff641cffc80057f4226076b_gllYn1FP.wav\",\n          \"/content/drive/MyDrive/AfriSpeech-Dialog-data/data/non-medical/e0b202dc-17fe-4936-a3c7-d89c639d9cda_2c5c6ef6476d5b77eb63b28dc14410e4_h3Ijm82h.wav\"\n        ],\n        \"semantic_type\": \"\",\n        \"description\": \"\"\n      }\n    },\n    {\n      \"column\": \"transcript\",\n      \"properties\": {\n        \"dtype\": \"string\",\n        \"num_unique_values\": 30,\n        \"samples\": [\n          \"00:00:00\\r\\n\\r\\n[Speaker 1]: Okay. My name is Mpomufuken, and I consent to recording this conversation.\\r\\n00:06:33\\r\\n\\r\\n00:07:10\\r\\n\\r\\n[Speaker 2]: My name is Tao Mufuken, and I consent to recording this conversation.\\r\\n00:11:54\\r\\n\\r\\n00:12:51\\r\\n\\r\\n[Speaker 1]: All right, so our topic for today is, can celebrities make good politicians?\\r\\n00:24:32\\r\\n\\r\\n00:25:16\\r\\n\\r\\n[Speaker 2]: No, they cannot.\\r\\n00:26:53\\r\\n\\r\\n00:27:13\\r\\n\\r\\n[Speaker 1]: So you believe that they cannot?\\r\\n00:28:45\\r\\n\\r\\n00:29:00\\r\\n\\r\\n[Speaker 2]: Yes, they cannot, because they don't have the experience that the politicians have. And they don't have, like, genuine interest in politics and are often against it and cannot make better decisions than the current ones.\\r\\n\\r\\n00:29:56\\r\\n\\r\\n[Speaker 1]: Okay\\r\\n00:30:34\\r\\n\\r\\n00:52:03\\r\\n\\r\\n[Speaker 1]:  than the current politicians. All right, so I do get your point, but I also believe that they can, you know, they can be politicians, because I believe that everybody should be given a chance. You know, when you're given a chance, that's why you will flourish in what you were given a chance to. You know, because they were also giving the,  the musicians, they were given a chance to make music. So that's when they, they knew how to make music. They knew how to entertain people. That's when they had the influence on people.\\r\\n01:36:52\\r\\n\\r\\n01:36:23\\r\\n\\r\\n[Speaker 2]: They entertain people, not set the rules.\\r\\n01:40:55\\r\\n\\r\\n01:41:03\\r\\n\\r\\n[Speaker 1]: Yeah, I do.\\r\\n01:42:02\\r\\n\\r\\n01:42:25\\r\\n\\r\\n[Speaker 2]: They are used to making the, the entertainment, not the rules. Like, then they cannot. Like, they don't have any experience. And it's hard for them. Like, because now they're older and.\\r\\n01:55:37\\r\\n\\r\\n01:56:40\\r\\n\\r\\n[Speaker 1]: No, but I do believe that if they are given a chance, they can be politicians, you know, because what I know for a fact is that our, I won't say the names, but our previous presidents, some of them, I know two of them actually, that did not go to high school. They do not have high school until now. They don't have high school education.\\r\\n02:26:55\\r\\n\\r\\n02:27:56\\r\\n\\r\\n[Speaker 2]: That's the thing. They don't have high school education. But that time when they didn't go to high school, what did they do? Go study law? Go study politics?\\r\\n02:40:05\\r\\n\\r\\n02:41:12\\r\\n\\r\\n[Speaker 1]: Who, the politicians?\\r\\n02:42:21\\r\\n\\r\\n02:42:21\\r\\n\\r\\n[Speaker 2]: Yeah.\\r\\n02:43:15\\r\\n\\r\\n02:45:09\\r\\n\\r\\n[Speaker 1]: You know, what, to prepare.\\r\\n02:48:14\\r\\n\\r\\n02:45:26\\r\\n\\r\\n[Speaker 2]: They had enough time to prepare, yes.\\r\\n02:49:19\\r\\n\\r\\n02:50:31\\r\\n\\r\\n[Speaker 1]: But I also believe that celebrities can also have time to prepare to become politicians. You know, because I believe that they are also entertainers, because they have ability to rule people into whatever that they are doing. So I believe that they do have a chance to become a good politicians. You know, they have the influence.\\r\\n03:15:51\\r\\n\\r\\n03:16:50\\r\\n\\r\\n[Speaker 2]: Yes, they do. They have the influence, but the different type of influence. Like, for instance, musicians. Some of them are, like, beefing and stuff like that. So, like, obviously people are gonna be, like, scared and, you know\\r\\n03:32:55\\r\\n\\r\\n03:33:13\\r\\n\\r\\n[Speaker 1]: But I also feel that if that's directed into the right direction, that beefing, it can actually do good for them as politicians, you know, because for you as well, I believe that if you're given a chance in something, you will be able to do it. Don't you think so?\\r\\n03:54:27\\r\\n\\r\\n03:54:27\\r\\n\\r\\n[Speaker 2]: Yes, you can. But we have more experienced people to do politics. The celebrities don't, do not have the experience, and most of them are greedy, So.\\r\\n04:11:06\\r\\n\\r\\n04:12:42\\r\\n\\r\\n[Speaker 1]: Politicians are greedy?\\r\\n04:14:26\\r\\n\\r\\n04:14:26\\r\\n\\r\\n[Speaker 2]: Yes.\\r\\n04:15:02\\r\\n\\r\\n04:18:07\\r\\n\\r\\n[Speaker 1]: Politicians are also greedy, man, you know? Yeah. So I believe that anyone can be whatever they want to be if they are presented with an opportunity, if the opportunity comes their way, you know, I can also become a politician if I want to. It is possible, you know? It is, with the experience that they have and with the experience that they can be given too. Because in order for you to have experience in something, you need to practice that.\\r\\n05:08:11\\r\\n\\r\\n05:08:11\\r\\n\\r\\n[Speaker 2]: Yeah.\\r\\n05:09:05\\r\\n\\r\\n05:09:05\\r\\n\\r\\n[Speaker 1]: You know?\\r\\n05:09:30\\r\\n\\r\\n05:09:30\\r\\n\\r\\n[Speaker 2]: Yeah.\\r\\n05:09:51\\r\\n\\r\\n05:10:59\\r\\n\\r\\n[Speaker 1]: Yeah. So they can really, imagine. I don't want to say their names, but. But, okay, imagine this rapper. He has so, so many followers, you know? Imagine him being a politician.\\r\\n05:35:02\\r\\n\\r\\n05:35:58\\r\\n\\r\\n[Speaker 2]: Oh, and then, yeah, they have, like, most of them have, like, cult fans. Like, cult, like fans. So, like, they could lead the country to the wrong direction because they have all the influence, so they can do whatever they want, not with the influence they have. They can do, like, wrong things and do disruption and all those type of things. And I feel like they have, if they do make wrong decisions, their fans, their followers will follow them, which means, it won't be a good\\r\\n06:17:00\\r\\n\\r\\n06:19:04\\r\\n\\r\\n[Speaker 1]: It won't be a good party.\\r\\n06:20:22\\r\\n\\r\\n06:20:22\\r\\n\\r\\n[Speaker 2]: Yeah.\\r\\n06:20:48\\r\\n\\r\\n06:22:34\\r\\n\\r\\n[Speaker 1]: You know what? I feel that it has two sides.\\r\\n06:25:34\\r\\n\\r\\n06:26:32\\r\\n\\r\\n[Speaker 2]: Yeah, it does. because like, yeah it does\\r\\n06:28:23\\r\\n\\r\\n06:30:01\\r\\n\\r\\n[Speaker 1]: Yeah, it has two sides. So, yeah.\\r\\n06:34:21\",\n          \"00:00:05\\r\\n\\r\\n[Speaker 1]: Good afternoon. My name is Amina and I consent to the recording of this audio and together with me is?\\r\\n00:07:00\\r\\n\\r\\n00:07:12\\r\\n\\r\\n[Speaker 2]: Hafsa, also consent for the recording of this audio.\\r\\n00:09:42\\r\\n\\r\\n00:10:20\\r\\n\\r\\n[Speaker 1]: Okay. So, dear Hafsa, I want us to discuss about what makes a good leader. Alright. I think a leader is a person that many people are under him. He is responsible for, he is responsible for the so many administrations. So then how can we know that this is a good leader?\\r\\n00:28:56\\r\\n\\r\\n00:30:11\\r\\n\\r\\n[Speaker 2]: Well, well, well, this is a broad topic, actually, but let's just talk, you know, basically. Not actually the practical terms. So basically, when you say someone is a good leader, we need to talk of his dignity, you know, definitely dignity inside honesty, you know, generosity. Plenty of stuff, actually.\\r\\n00:53:33\\r\\n\\r\\n00:53:35\\r\\n\\r\\n[Speaker 1]: But then how can we know that this is an honest person? He's generous.\\r\\n00:57:14\\r\\n\\r\\n00:57:23\\r\\n\\r\\n[Speaker 2]: Well, it's very hard, actually, because, you know, politics, let's say leaders, when they are looking for positions, you know, they tend to form holy, holy.\\r\\n01:04:48\\r\\n\\r\\n01:05:10\\r\\n\\r\\n[Speaker 1]: Yes, I've witnessed lots, lots of incidents.\\r\\n01:08:28\\r\\n\\r\\n01:08:28\\r\\n\\r\\n[Speaker 2]: So you see, you just have to work with what you can see. But then think beyond that, actually.\\r\\n01:12:50\\r\\n\\r\\n01:13:08\\r\\n\\r\\n[Speaker 1]: But then, okay, then, a good leader, I think based on me, if we are looking for a good leader, we need to check for the quality, such as his ability to guide, honesty, as you said, generosity. And is it man of his word? Yes, yes politeness, is it, is this person a harsh person?\\r\\n01:38:38\\r\\n\\r\\n01:38:47\\r\\n\\r\\n[Speaker 2]: It shouldn't actually be entirely polite. We need some, as a leader, you have to be. yes, polite somehow, but then you have to be somehow strict. So in between, something in between, actually.\\r\\n01:48:33\\r\\n\\r\\n01:49:04\\r\\n\\r\\n[Speaker 1]: Because his administration can decide to share some. Yes. Then what if after voting, the leader happens to fail from what he said he would do? Maybe we find out that he's a bad leader. Then what do you think can we do? Can we just impeach him? Or we have to wait? Or are we supposed to fight him?\\r\\n02:11:14\\r\\n\\r\\n02:11:41\\r\\n\\r\\n[Speaker 2]: Well, let's take most of African, let's say a democratically operating system. The impeachment is actually left for the Senate. They are our representatives. Then they decide what to do. Maybe when they hear about the complaints. That is, in theoretical aspect, that you can find that in a constitution, let's say for the Federal Republic of Nigeria, you can impeach a president or a leader. But then that's basically to be honest in theoretical terms, in practical aspect. Now, if you're talking about peers, if. you're.\\r\\n02:43:51\\r\\n\\r\\n02:44:54\\r\\n\\r\\n[Speaker 1]: You are to dive into the practical.\\r\\n02:45:24\\r\\n\\r\\n02:45:26\\r\\n\\r\\n[Speaker 2]: It's very hard, actually. Honestly. We had a professor taking us a course. What he actually said that the only reasonable, practical thing you can do about it is just to be patient, you know, all those protests or whatever.\\r\\n03:01:45\\r\\n\\r\\n\\r\\n03:02:17\\r\\n\\r\\n[Speaker 1]: Yes, this patient that you said, you just.\\r\\n03:04:34\\r\\n\\r\\n03:04:36\\r\\n\\r\\n[Speaker 2]: Have to be, I'm coming, I'm coming. You just have to be patient and then wait for the next period of election and then don't vote for that person into power again. So basically that's the most.\\r\\n03:13:55\\r\\n\\r\\n03:14:26\\r\\n\\r\\n[Speaker 1]: What if it's in a hard time? Do you think that patiently waiting, won't it say there is.\\r\\n03:21:43\\r\\n\\r\\n03:22:30\\r\\n\\r\\n[Speaker 2]: What do you think a common man is going to do about it? What do you think a common man is going to do about it? He has no power. Yes, he has some rights. Let's talk. Okay, let's not dive into, you know, but let me give you an example so that you understand where I'm headed. Let's take Nigeria as a case study. In the constitution of the Federal Republic of Nigeria, your fundamental human rights are guaranteed, and also there are some rights that is right to education, you know, right to, right to, right to health, health, right to quality water. It is your right. But do you know that that same constitution that granted you that right under section two also limited that thing. That you cannot go to court of law to enforce that right. That means you cannot go to court of law to say that this leader has not provided me with quality water. Therefore I call for enforcement of my right. That same constitution has prohibited that. So tell me then, what is the hope of the common man? Patience. You just have to be patient. Do you say you'll come out and riot, you know, yeah, you can do peaceful protest, but then what does it result to actually does it profer solution?\\r\\n04:27:43\\r\\n\\r\\n04:28:25\\r\\n\\r\\n[Speaker 1]: I don't think so.\\r\\n04:29:13\\r\\n\\r\\n04:29:14\\r\\n\\r\\n[Speaker 2]: The practical thing is just to be patient and then vote for the next senior and then don't vote for that person.\\r\\n04:34:03\\r\\n\\r\\n04:34:03\\r\\n\\r\\n[Speaker 1]: Yes, yes.\\r\\n04:35:55\\r\\n\\r\\n04:35:56\\r\\n\\r\\n[Speaker 2]: So what practically you are supposed to do then before you vote that particular person, don't go beyond, you know, they give. you spaghetti and then you just go and vote. Just be reasonable, you know, try to see, do you see potential in this person and then vote it so that's.\\r\\n04:52:24\\r\\n\\r\\n04:52:46\\r\\n\\r\\n[Speaker 1]: Yes, Let's talk about our own beliefs. Our own beliefs, let's say my own beliefs. What are the values that I want to see in a leader? A leader, I think based on my own, the values that I want to see in a leader, he should be trustworthy. That's the most important thing I think. Trustworthy.\\r\\n05:11:34\\r\\n\\r\\n05:13:56\\r\\n\\r\\n[Speaker 2]: Yes, actually that's why I keep on repeating in theoretical time, how are you going to know that this person is actually a trustworthy?\\r\\n05:20:34\\r\\n\\r\\n05:20:34\\r\\n\\r\\n[Speaker 1]: Research based on the previous, let's say, offices he holds, his previous activities. Yes, we know that a human being can change. But, you know, let's say he, he stayed in office for 20 years. Then definitely, if you want to go to research deeply, we will know what he did in that office for the past 20 years. What do you think is. Am I making sense?\\r\\n05:44:19\\r\\n\\r\\n05:45:11\\r\\n\\r\\n[Speaker 2]: Well, you are making sense, actually but then.\\r\\n05:48:25\\r\\n\\r\\n05:49:17\\r\\n\\r\\n[Speaker 1]: Yes, that's my only.\\r\\n05:50:52\\r\\n\\r\\n05:52:16\\r\\n\\r\\n[Speaker 2]: Have some traits of you know, corruption.\\r\\n05:53:55\\r\\n\\r\\n05:54:05\\r\\n\\r\\n[Speaker 1]: Yes, definitely, one way or the other, That's  incapacity, human incapacity. But then if we are to check, we will know that, yes, this is better than that. That is better than that person. You know, we cannot say all humans are equal. Definitely. There's a better person and there's the worst person. Okay. Then apart from trustworthy, I think the next thing that's supposed to be is, the next person, the next quality that we have to check for is, what, what do you think? Tolerance. Right?\\r\\n06:23:14\\r\\n\\r\\n06:25:46\\r\\n\\r\\n[Speaker 2]: You know that tolerance. I'm not actually sure. Okay. When you say tolerance, does that mean a leader should tolerate any rubbish?\\r\\n06:32:02\\r\\n\\r\\n06:32:12\\r\\n\\r\\n[Speaker 1]: No. Level of tolerance. Level. You know, there's level to everything. Let's say there's, he's, if he's not able to tolerate people, let's say, for example, he went to a particular place to see his people, and then they started shouting, we no they do, we no they do. Do you think that if he's not, he will not tolerate them, he will say, maybe his soldiers should start shooting them. So there's a level of tolerance.\\r\\n07:00:00\\r\\n\\r\\n07:00:01\\r\\n\\r\\n[Speaker 2]: Yeah, to some extent. To some extent, yes.\\r\\n07:04:03\\r\\n\\r\\n07:04:26\\r\\n\\r\\n[Speaker 1]: And then a leader should have this, What? I don't know how to put this, but then he should be, he should have this quality that he loves his people.\\r\\n07:13:10\\r\\n\\r\\n07:14:31\\r\\n\\r\\n[Speaker 2]: Yeah. He should be patriotic to his nation and all that.\\r\\n07:18:01\\r\\n\\r\\n07:18:26\\r\\n\\r\\n[Speaker 2]: Which I think puts your, you know, your subjects, the people you are leading, that is, carry them. They should be your utmost priority.\\r\\n07:28:56\\r\\n\\r\\n\\r\\n07:29:52\\r\\n\\r\\n[Speaker 1]: Yes \\r\\n07:30:00\\r\\n\\r\\n07:30:05\\r\\n\\r\\n[Speaker 2]: So we hope for good leaders, and we pray that our leaders will continue to be patriotic\\r\\n07:35:06\\r\\n\\r\\n07:35:07\\r\\n\\r\\n[Speaker 2]: Amen. Amen. So help us God.\\r\\n07:37:12\\r\\n\\r\\n07:37:26\\r\\n\\r\\n[Speaker 1]: Yes. So, in conclusion, can you just tell us briefly what leaders, our leaders should do to us? What they should give back to their community.\\r\\n07:48:31\\r\\n\\r\\n07:49:44\\r\\n\\r\\n[Speaker 2]: And they should provide necessary amenities, you know, health, education and all that. And also they should work on trying to see that our fundamental human rights are being duly followed, you know, duly observed. Exactly.\\r\\n08:05:53\\r\\n\\r\\n08:07:07\\r\\n\\r\\n[Speaker 1]: Yes. I think that's basically what they're supposed to do. Know that they should make sure that their people have food. That's the important thing. They should remove their people from poverty.\\r\\n08:16:22\\r\\n\\r\\n08:16:45\\r\\n\\r\\n[Speaker 2]: Poverty alleviation.\\r\\n08:17:43\\r\\n\\r\\n08:19:30\\r\\n\\r\\n[Speaker 1]: I think we've done a little bit justice to the topic. Right?\\r\\n08:23:29\\r\\n\\r\\n08:24:26\\r\\n\\r\\n[Speaker 2]: Well, we've practically, we've done justice to it.\\r\\n08:27:57\\r\\n\\r\\n08:27:49\\r\\n\\r\\n[Speaker 1]: Alright? So thank you. Thank you for coming on board with me.\\r\\n08:30:35\\r\\n\\r\\n\",\n          \"00:00:05\\r\\n\\r\\n[Speaker 1]: My name is Susan Wanjogo and I consent to recording this conversation.\\r\\n00:04:29\\r\\n\\r\\n00:05:16\\r\\n\\r\\n[Speaker 2]: My name is Ruben Mose and I consent to recording this conversation.\\r\\n00:10:01\\r\\n\\r\\n00:10:47\\r\\n\\r\\n[Speaker 1]: Welcome very much, Mister Ruben, and we are so much grateful to have you on board.\\r\\n00:15:13\\r\\n\\r\\n00:15:47\\r\\n\\r\\n[Speaker 2]: Thank you for the invite.\\r\\n00:17:39\\r\\n\\r\\n00:18:29\\r\\n\\r\\n[Speaker 1]: Today we will be discussing about Manchester United, but before we go further, which team do you support?\\r\\n00:23:51\\r\\n\\r\\n00:24:34\\r\\n\\r\\n[Speaker 2]: I am a Manchester United supporter.\\r\\n00:27:32\\r\\n\\r\\n00:27:47\\r\\n\\r\\n[Speaker 1]: Wow.\\r\\n00:28:04\\r\\n\\r\\n00:30:45\\r\\n\\r\\n[Speaker 2]: Yes.\\r\\n00:31:19\\r\\n\\r\\n00:32:06\\r\\n\\r\\n[Speaker 1]: Mister Ruben, could you kindly tell us more about Manchester United before we dive into our questions?\\r\\n00:37:24\\r\\n\\r\\n00:38:24\\r\\n\\r\\n[Speaker 2]: Okay. Manchester United is a professional football club based in Manchester, England. Founded in 1878, it is one of the oldest and most successful football clubs in the world. The team has a rich history and a large global fanbase. With its home ground at Old Trafford Stadium, Manchester United has won numerous domestic and international titles, including 20 English league titles and three European clubs. The club is known for its iconic red and white jersey and has a sport marking it on mostly renowned and prestigious football clubs in the world.\\r\\n01:22:18\\r\\n\\r\\n01:23:30\\r\\n\\r\\n[Speaker 1]: Wow. That's very rich of Manchester United. Now, I want us to dive in our questions. Did you watch or did you catch Manchester United's game last weekend?\\r\\n01:34:51\\r\\n\\r\\n01:35:15\\r\\n\\r\\n[Speaker 2]: Yes, I did.\\r\\n01:36:24\\r\\n\\r\\n01:36:50\\r\\n\\r\\n[Speaker 1]: And what did you think of their performance?\\r\\n01:39:13\\r\\n\\r\\n01:40:52\\r\\n\\r\\n[Speaker 2]: I watched the match between Manchester United and Liverpool. I am a Manchester United fan. What an entertaining match. Manchester United were playing at their home ground, commonly known as Old Strafford. The first half they faced up defeat with Liverpool taking a lead by one. The Manchester United defence was in shambles and they lacked possession of the ball. The possession was also in favour of Liverpool with a percentage of 43% and 57%, with Manchester United lacking a shot on target, while Liverpool enjoying a total of 15 shots and four shots on target. We had three offside decisions and one yellow card from Liverpool's side. Two big chances wasted by Liverpool with several possessions lost by both teams. The second half was a much entertaining as the host Manchester United came from behind to a two one win up to the 84th minute when Mohamed Salah rescued Liverpool and the match ended in a two-two draw. The overall performance we had seven yellow cards, with Manchester United grabbing five yellow cards and Liverpool two yellow cards. We saw young players representing both teams as young as 18 years. Kobbie Mainoo played really well and he was forced out of pitch due to injury on the 85th minute, Manchester United keeper Andre Onana displayed a good performance by saving three crucial saves against Liverpool. The man of the match was Bruno Fernandes, the captain of Manchester United. The players on scoresheet were Bruno Fernandez and Kobbie Mainoo from Manchester United, while on the other side of Liverpool, Luis Diaz and Mohamed Salah scored the goals.\\r\\n04:08:59\\r\\n\\r\\n04:09:21\\r\\n\\r\\n[Speaker 1]: Wow. And I'm really excited to see how Mister Mose, I'm really excited to see how Manchester United will do in the upcoming season. So what player are you most looking forward to watching on the team?\\r\\n04:25:04\\r\\n\\r\\n04:26:10\\r\\n\\r\\n[Speaker 2]: I think the team is now working hard and focusing on winning trophies. The goal of the team is to take the club to the next level and play in European Championship or competitions. I'm looking forward watching Kobbie Mainoo play because right now he is performing very well and is trying hard and working very hard to make sure that the team gets positive results. I'm also looking forward to see the captain, Bruno Fernandes unite players on pitch and bring the atmosphere of positive energy in both the pitch and dressing room. I'm also betting on Garnacho to improve and get more goals and work on being the top scorer on the sheet. And lastly, I want to see the performance of Amad Diallo who we want to see him play as he did on his performance while he was at loan at Sunderland. He will for sure be a great bet. We also want to encourage the coach, Erik ten Hag to rotate the squad so that we can see more positive results on the pitch.\\r\\n05:50:23\\r\\n\\r\\n05:51:07\\r\\n\\r\\n[Speaker 1]: That was very educative about Manchester United and you almost made me come and to shift from my team. Actually, I'll think about that, but I'm so grateful for the insight, Mr. Mose.\\r\\n06:04:05\\r\\n\\r\\n06:04:54\\r\\n\\r\\n[Speaker 2]: Thank you so much for the invite.\\r\\n06:06:27\"\n        ],\n        \"semantic_type\": \"\",\n        \"description\": \"\"\n      }\n    },\n    {\n      \"column\": \"age_group\",\n      \"properties\": {\n        \"dtype\": \"category\",\n        \"num_unique_values\": 1,\n        \"samples\": [\n          \"26-40\"\n        ],\n        \"semantic_type\": \"\",\n        \"description\": \"\"\n      }\n    },\n    {\n      \"column\": \"gender\",\n      \"properties\": {\n        \"dtype\": \"category\",\n        \"num_unique_values\": 2,\n        \"samples\": [\n          \"Female\"\n        ],\n        \"semantic_type\": \"\",\n        \"description\": \"\"\n      }\n    },\n    {\n      \"column\": \"accent\",\n      \"properties\": {\n        \"dtype\": \"category\",\n        \"num_unique_values\": 3,\n        \"samples\": [\n          \"Yoruba\"\n        ],\n        \"semantic_type\": \"\",\n        \"description\": \"\"\n      }\n    },\n    {\n      \"column\": \"domain\",\n      \"properties\": {\n        \"dtype\": \"category\",\n        \"num_unique_values\": 3,\n        \"samples\": [\n          \"OSCE-Doctor-Patient\"\n        ],\n        \"semantic_type\": \"\",\n        \"description\": \"\"\n      }\n    },\n    {\n      \"column\": \"country\",\n      \"properties\": {\n        \"dtype\": \"category\",\n        \"num_unique_values\": 1,\n        \"samples\": [\n          \"NG\"\n        ],\n        \"semantic_type\": \"\",\n        \"description\": \"\"\n      }\n    },\n    {\n      \"column\": \"audio_duration\",\n      \"properties\": {\n        \"dtype\": \"number\",\n        \"std\": 257.4377633909756,\n        \"min\": 204.622993,\n        \"max\": 1205.075986,\n        \"num_unique_values\": 30,\n        \"samples\": [\n          394.442993\n        ],\n        \"semantic_type\": \"\",\n        \"description\": \"\"\n      }\n    },\n    {\n      \"column\": \"doctor_summary\",\n      \"properties\": {\n        \"dtype\": \"category\",\n        \"num_unique_values\": 10,\n        \"samples\": [\n          \"Gift Joseph, a 32-year-old Igala Christian farmer from Kogi State, presented to the hospital with a high-grade fever that started suddenly two days ago. Constant and is associated with severe chills, profuse sweating, generalized headache, loss of appetite, and nausea, but no vomiting, cough, or abdominal pain. No recent travel outside her local area and has no prior history of hospital admissions, chronic illnesses, or surgeries. Gift lives with her husband and two children in a rural area and does not sleep under insecticide-treated nets, despite many people in the vicinity suffering from malaria. does not consume alcohol or smoke and has no known allergies to food or medications. \"\n        ],\n        \"semantic_type\": \"\",\n        \"description\": \"\"\n      }\n    },\n    {\n      \"column\": \"all_timestamps\",\n      \"properties\": {\n        \"dtype\": \"boolean\",\n        \"num_unique_values\": 1,\n        \"samples\": [\n          true\n        ],\n        \"semantic_type\": \"\",\n        \"description\": \"\"\n      }\n    },\n    {\n      \"column\": \"pred_segments\",\n      \"properties\": {\n        \"dtype\": \"object\",\n        \"semantic_type\": \"\",\n        \"description\": \"\"\n      }\n    },\n    {\n      \"column\": \"ref_segments\",\n      \"properties\": {\n        \"dtype\": \"object\",\n        \"semantic_type\": \"\",\n        \"description\": \"\"\n      }\n    }\n  ]\n}"
            }
          },
          "metadata": {},
          "execution_count": 39
        }
      ]
    },
    {
      "cell_type": "code",
      "source": [
        "from pyannote.core import Annotation, Segment\n",
        "from pyannote.metrics.diarization import DiarizationErrorRate\n",
        "\n",
        "def create_pyannote_annotation(segments_list):\n",
        "    annotation = Annotation()\n",
        "    for start, end, speaker_tag in segments_list:\n",
        "        segment = Segment(start, end)\n",
        "        annotation[segment] = speaker_tag\n",
        "    return annotation\n",
        "\n",
        "der_metric = DiarizationErrorRate()"
      ],
      "metadata": {
        "id": "lgEBRWM0A0bm"
      },
      "execution_count": null,
      "outputs": []
    },
    {
      "cell_type": "code",
      "source": [
        "for i, text in tqdm(enumerate(diarize_ds['transcript']), total=len(diarize_ds['transcript']), desc=\"Processing\"):\n",
        "    ref_annotation = create_pyannote_annotation(diarize_ds.iloc[i]['ref_segments'])\n",
        "    pred_annotation = create_pyannote_annotation(diarize_ds.iloc[i]['pred_segments'])\n",
        "    der = der_metric(ref_annotation, pred_annotation)\n",
        "    print(f\"DER: {100 * der:.2f}%\")\n",
        "#get abs value for whole dataset\n",
        "ds_der = abs(der_metric)\n",
        "print(f\"Absolute DER for dataset: {100 * ds_der:.2f}%\")"
      ],
      "metadata": {
        "colab": {
          "base_uri": "https://localhost:8080/"
        },
        "id": "zUwFDpT2BMTK",
        "outputId": "92bc0c24-59c5-4bbf-f08b-acc24de698a6"
      },
      "execution_count": null,
      "outputs": [
        {
          "output_type": "stream",
          "name": "stderr",
          "text": [
            "\rProcessing:   0%|          | 0/30 [00:00<?, ?it/s]/usr/local/lib/python3.10/dist-packages/pyannote/metrics/utils.py:200: UserWarning: 'uem' was approximated by the union of 'reference' and 'hypothesis' extents.\n",
            "  warnings.warn(\n",
            "Processing:   7%|▋         | 2/30 [00:00<00:04,  6.25it/s]"
          ]
        },
        {
          "output_type": "stream",
          "name": "stdout",
          "text": [
            "DER: 25.63%\n",
            "DER: 33.31%\n",
            "DER: 22.77%\n"
          ]
        },
        {
          "output_type": "stream",
          "name": "stderr",
          "text": [
            "Processing:  23%|██▎       | 7/30 [00:00<00:01, 12.47it/s]"
          ]
        },
        {
          "output_type": "stream",
          "name": "stdout",
          "text": [
            "DER: 37.65%\n",
            "DER: 36.93%\n",
            "DER: 42.16%\n",
            "DER: 18.45%\n",
            "DER: 20.65%\n"
          ]
        },
        {
          "output_type": "stream",
          "name": "stderr",
          "text": [
            "Processing:  50%|█████     | 15/30 [00:00<00:00, 24.99it/s]"
          ]
        },
        {
          "output_type": "stream",
          "name": "stdout",
          "text": [
            "DER: 36.93%\n",
            "DER: 4.80%\n",
            "DER: 8.99%\n",
            "DER: 50.50%\n",
            "DER: 4.99%\n",
            "DER: 4.75%\n",
            "DER: 7.70%\n",
            "DER: 16.68%\n",
            "DER: 2.85%\n",
            "DER: 8.35%\n",
            "DER: 5.88%\n"
          ]
        },
        {
          "output_type": "stream",
          "name": "stderr",
          "text": [
            "Processing: 100%|██████████| 30/30 [00:01<00:00, 26.31it/s]"
          ]
        },
        {
          "output_type": "stream",
          "name": "stdout",
          "text": [
            "DER: 1.86%\n",
            "DER: 4.54%\n",
            "DER: 12.17%\n",
            "DER: 3.67%\n",
            "DER: 5.65%\n",
            "DER: 14.57%\n",
            "DER: 3.15%\n",
            "DER: 7.80%\n",
            "DER: 18.40%\n",
            "DER: 4.88%\n",
            "DER: 48.65%\n",
            "Absolute DER for dataset: 14.21%\n"
          ]
        },
        {
          "output_type": "stream",
          "name": "stderr",
          "text": [
            "\n"
          ]
        }
      ]
    },
    {
      "cell_type": "code",
      "source": [
        "diarize_ds.to_csv('/content/drive/MyDrive/AfriSpeech-Dialog-data/diarization_results/deepgram_diarization_der_0.1421_30.csv', index=False)"
      ],
      "metadata": {
        "id": "towI9dGWBXQs"
      },
      "execution_count": null,
      "outputs": []
    },
    {
      "cell_type": "code",
      "source": [],
      "metadata": {
        "id": "prlsr1CYBgFW"
      },
      "execution_count": null,
      "outputs": []
    }
  ]
}